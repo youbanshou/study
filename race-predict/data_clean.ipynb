{
 "cells": [
  {
   "cell_type": "code",
   "execution_count": 1,
   "metadata": {},
   "outputs": [],
   "source": [
    "import numpy as np\n",
    "import pandas as pd\n",
    "#最大表示列数の指定（ここでは50列を指定）\n",
    "pd.set_option('display.max_columns', 50)"
   ]
  },
  {
   "cell_type": "code",
   "execution_count": 2,
   "metadata": {},
   "outputs": [
    {
     "name": "stderr",
     "output_type": "stream",
     "text": [
      "/home/naokiuno634/.pyenv/versions/3.6.5/lib/python3.6/site-packages/IPython/core/interactiveshell.py:3058: DtypeWarning: Columns (18) have mixed types. Specify dtype option on import or set low_memory=False.\n",
      "  interactivity=interactivity, compiler=compiler, result=result)\n"
     ]
    }
   ],
   "source": [
    "race_df = pd.read_csv(\"./csv/race-2008.csv\", sep=\",\")\n",
    "horse_df = pd.read_csv(\"./csv/horse-2008.csv\", sep=\",\")\n",
    "for year in range(2009, 2020):\n",
    "    race_tmp_df = pd.read_csv(\"./csv/race-\"+str(year)+\".csv\", sep=\",\")\n",
    "    horse_tmp_df = pd.read_csv(\"./csv/horse-\"+str(year)+\".csv\", sep=\",\")\n",
    "    race_df = pd.concat([race_df, race_tmp_df], axis=0)\n",
    "    horse_df = pd.concat([horse_df, horse_tmp_df], axis=0)"
   ]
  },
  {
   "cell_type": "markdown",
   "metadata": {},
   "source": [
    "## 元データの確認"
   ]
  },
  {
   "cell_type": "code",
   "execution_count": 3,
   "metadata": {},
   "outputs": [
    {
     "name": "stdout",
     "output_type": "stream",
     "text": [
      "True\n",
      "(41033, 28)\n"
     ]
    },
    {
     "data": {
      "text/html": [
       "<div>\n",
       "<style scoped>\n",
       "    .dataframe tbody tr th:only-of-type {\n",
       "        vertical-align: middle;\n",
       "    }\n",
       "\n",
       "    .dataframe tbody tr th {\n",
       "        vertical-align: top;\n",
       "    }\n",
       "\n",
       "    .dataframe thead th {\n",
       "        text-align: right;\n",
       "    }\n",
       "</style>\n",
       "<table border=\"1\" class=\"dataframe\">\n",
       "  <thead>\n",
       "    <tr style=\"text-align: right;\">\n",
       "      <th></th>\n",
       "      <th>race_id</th>\n",
       "      <th>race_round</th>\n",
       "      <th>race_title</th>\n",
       "      <th>race_course</th>\n",
       "      <th>weather</th>\n",
       "      <th>ground_status</th>\n",
       "      <th>time</th>\n",
       "      <th>date</th>\n",
       "      <th>where_racecourse</th>\n",
       "      <th>total_horse_number</th>\n",
       "      <th>frame_number_first</th>\n",
       "      <th>horse_number_first</th>\n",
       "      <th>frame_number_second</th>\n",
       "      <th>horse_number_second</th>\n",
       "      <th>frame_number_third</th>\n",
       "      <th>horse_number_third</th>\n",
       "      <th>tansyo</th>\n",
       "      <th>hukusyo_first</th>\n",
       "      <th>hukusyo_second</th>\n",
       "      <th>hukusyo_third</th>\n",
       "      <th>wakuren</th>\n",
       "      <th>umaren</th>\n",
       "      <th>wide_1_2</th>\n",
       "      <th>wide_1_3</th>\n",
       "      <th>wide_2_3</th>\n",
       "      <th>umatan</th>\n",
       "      <th>renhuku3</th>\n",
       "      <th>rentan3</th>\n",
       "    </tr>\n",
       "  </thead>\n",
       "  <tbody>\n",
       "    <tr>\n",
       "      <th>3043</th>\n",
       "      <td>201908050403</td>\n",
       "      <td>3 R</td>\n",
       "      <td>2歳未勝利</td>\n",
       "      <td>芝右1600m</td>\n",
       "      <td>天候 : 晴</td>\n",
       "      <td>芝 : 良</td>\n",
       "      <td>発走 : 11:00</td>\n",
       "      <td>2019年11月10日</td>\n",
       "      <td>5回京都4日目</td>\n",
       "      <td>16</td>\n",
       "      <td>3</td>\n",
       "      <td>6</td>\n",
       "      <td>6</td>\n",
       "      <td>12</td>\n",
       "      <td>1</td>\n",
       "      <td>2</td>\n",
       "      <td>460</td>\n",
       "      <td>170</td>\n",
       "      <td>170</td>\n",
       "      <td>250</td>\n",
       "      <td>310</td>\n",
       "      <td>940</td>\n",
       "      <td>400</td>\n",
       "      <td>920</td>\n",
       "      <td>950</td>\n",
       "      <td>1,610</td>\n",
       "      <td>4,000</td>\n",
       "      <td>15,230</td>\n",
       "    </tr>\n",
       "    <tr>\n",
       "      <th>3044</th>\n",
       "      <td>201905050404</td>\n",
       "      <td>4 R</td>\n",
       "      <td>2歳未勝利</td>\n",
       "      <td>芝左2000m</td>\n",
       "      <td>天候 : 晴</td>\n",
       "      <td>芝 : 良</td>\n",
       "      <td>発走 : 11:20</td>\n",
       "      <td>2019年11月10日</td>\n",
       "      <td>5回東京4日目</td>\n",
       "      <td>11</td>\n",
       "      <td>4</td>\n",
       "      <td>4</td>\n",
       "      <td>2</td>\n",
       "      <td>2</td>\n",
       "      <td>8</td>\n",
       "      <td>11</td>\n",
       "      <td>290</td>\n",
       "      <td>200</td>\n",
       "      <td>440</td>\n",
       "      <td>710</td>\n",
       "      <td>1,450</td>\n",
       "      <td>1,440</td>\n",
       "      <td>400</td>\n",
       "      <td>860</td>\n",
       "      <td>1,370</td>\n",
       "      <td>2,480</td>\n",
       "      <td>5,500</td>\n",
       "      <td>18,470</td>\n",
       "    </tr>\n",
       "  </tbody>\n",
       "</table>\n",
       "</div>"
      ],
      "text/plain": [
       "           race_id race_round race_title race_course weather ground_status  \\\n",
       "3043  201908050403        3 R      2歳未勝利     芝右1600m  天候 : 晴         芝 : 良   \n",
       "3044  201905050404        4 R      2歳未勝利     芝左2000m  天候 : 晴         芝 : 良   \n",
       "\n",
       "            time         date where_racecourse  total_horse_number  \\\n",
       "3043  発走 : 11:00  2019年11月10日          5回京都4日目                  16   \n",
       "3044  発走 : 11:20  2019年11月10日          5回東京4日目                  11   \n",
       "\n",
       "      frame_number_first  horse_number_first  frame_number_second  \\\n",
       "3043                   3                   6                    6   \n",
       "3044                   4                   4                    2   \n",
       "\n",
       "      horse_number_second  frame_number_third  horse_number_third tansyo  \\\n",
       "3043                   12                   1                   2    460   \n",
       "3044                    2                   8                  11    290   \n",
       "\n",
       "     hukusyo_first hukusyo_second hukusyo_third wakuren umaren wide_1_2  \\\n",
       "3043           170            170           250     310    940      400   \n",
       "3044           200            440           710   1,450  1,440      400   \n",
       "\n",
       "     wide_1_3 wide_2_3 umatan renhuku3 rentan3  \n",
       "3043      920      950  1,610    4,000  15,230  \n",
       "3044      860    1,370  2,480    5,500  18,470  "
      ]
     },
     "execution_count": 3,
     "metadata": {},
     "output_type": "execute_result"
    }
   ],
   "source": [
    "# race_id単位で重複したデータが存在しないか確認\n",
    "print(len(race_df) == len(race_df['race_id'].unique()))\n",
    "print(race_df.shape)\n",
    "race_df.tail(2)"
   ]
  },
  {
   "cell_type": "code",
   "execution_count": 4,
   "metadata": {},
   "outputs": [
    {
     "data": {
      "text/plain": [
       "16    15095\n",
       "15     4696\n",
       "14     4183\n",
       "18     3738\n",
       "13     3324\n",
       "12     3078\n",
       "11     2214\n",
       "10     1770\n",
       "9      1214\n",
       "8       704\n",
       "17      662\n",
       "7       249\n",
       "6        82\n",
       "5        24\n",
       "Name: total_horse_number, dtype: int64"
      ]
     },
     "execution_count": 4,
     "metadata": {},
     "output_type": "execute_result"
    }
   ],
   "source": [
    "# 出走馬数の確認\n",
    "race_df[\"total_horse_number\"].value_counts()"
   ]
  },
  {
   "cell_type": "code",
   "execution_count": 5,
   "metadata": {},
   "outputs": [
    {
     "name": "stdout",
     "output_type": "stream",
     "text": [
      "(590175, 19)\n"
     ]
    },
    {
     "data": {
      "text/html": [
       "<div>\n",
       "<style scoped>\n",
       "    .dataframe tbody tr th:only-of-type {\n",
       "        vertical-align: middle;\n",
       "    }\n",
       "\n",
       "    .dataframe tbody tr th {\n",
       "        vertical-align: top;\n",
       "    }\n",
       "\n",
       "    .dataframe thead th {\n",
       "        text-align: right;\n",
       "    }\n",
       "</style>\n",
       "<table border=\"1\" class=\"dataframe\">\n",
       "  <thead>\n",
       "    <tr style=\"text-align: right;\">\n",
       "      <th></th>\n",
       "      <th>race_id</th>\n",
       "      <th>rank</th>\n",
       "      <th>frame_number</th>\n",
       "      <th>horse_number</th>\n",
       "      <th>horse_id</th>\n",
       "      <th>sex_and_age</th>\n",
       "      <th>burden_weight</th>\n",
       "      <th>rider_id</th>\n",
       "      <th>goal_time</th>\n",
       "      <th>goal_time_dif</th>\n",
       "      <th>time_value</th>\n",
       "      <th>half_way_rank</th>\n",
       "      <th>last_time</th>\n",
       "      <th>odds</th>\n",
       "      <th>popular</th>\n",
       "      <th>horse_weight</th>\n",
       "      <th>tame_time</th>\n",
       "      <th>tamer_id</th>\n",
       "      <th>owner_id</th>\n",
       "    </tr>\n",
       "  </thead>\n",
       "  <tbody>\n",
       "    <tr>\n",
       "      <th>0</th>\n",
       "      <td>200810010312</td>\n",
       "      <td>1</td>\n",
       "      <td>4</td>\n",
       "      <td>7</td>\n",
       "      <td>2004110053</td>\n",
       "      <td>牡4</td>\n",
       "      <td>56.0</td>\n",
       "      <td>674</td>\n",
       "      <td>1:09.7</td>\n",
       "      <td>NaN</td>\n",
       "      <td>\\n\\n**\\n\\n</td>\n",
       "      <td>11-12</td>\n",
       "      <td>35.9</td>\n",
       "      <td>9.7</td>\n",
       "      <td>4.0</td>\n",
       "      <td>484(-10)</td>\n",
       "      <td>\\n\\n</td>\n",
       "      <td>1075</td>\n",
       "      <td>19004</td>\n",
       "    </tr>\n",
       "    <tr>\n",
       "      <th>1</th>\n",
       "      <td>200810010312</td>\n",
       "      <td>2</td>\n",
       "      <td>3</td>\n",
       "      <td>6</td>\n",
       "      <td>2003106038</td>\n",
       "      <td>牡5</td>\n",
       "      <td>57.0</td>\n",
       "      <td>1054</td>\n",
       "      <td>1:09.7</td>\n",
       "      <td>クビ</td>\n",
       "      <td>\\n\\n**\\n\\n</td>\n",
       "      <td>7-8</td>\n",
       "      <td>36.1</td>\n",
       "      <td>35.7</td>\n",
       "      <td>12.0</td>\n",
       "      <td>474(-8)</td>\n",
       "      <td>\\n\\n</td>\n",
       "      <td>1007</td>\n",
       "      <td>910006</td>\n",
       "    </tr>\n",
       "  </tbody>\n",
       "</table>\n",
       "</div>"
      ],
      "text/plain": [
       "        race_id rank  frame_number  horse_number    horse_id sex_and_age  \\\n",
       "0  200810010312    1             4             7  2004110053          牡4   \n",
       "1  200810010312    2             3             6  2003106038          牡5   \n",
       "\n",
       "   burden_weight  rider_id goal_time goal_time_dif  time_value half_way_rank  \\\n",
       "0           56.0       674    1:09.7           NaN  \\n\\n**\\n\\n         11-12   \n",
       "1           57.0      1054    1:09.7            クビ  \\n\\n**\\n\\n           7-8   \n",
       "\n",
       "   last_time  odds  popular horse_weight tame_time  tamer_id owner_id  \n",
       "0       35.9   9.7      4.0     484(-10)      \\n\\n      1075    19004  \n",
       "1       36.1  35.7     12.0      474(-8)      \\n\\n      1007   910006  "
      ]
     },
     "execution_count": 5,
     "metadata": {},
     "output_type": "execute_result"
    }
   ],
   "source": [
    "print(horse_df.shape)\n",
    "horse_df.head(2)"
   ]
  },
  {
   "cell_type": "markdown",
   "metadata": {},
   "source": [
    "## raceデータの整形"
   ]
  },
  {
   "cell_type": "code",
   "execution_count": 6,
   "metadata": {},
   "outputs": [
    {
     "data": {
      "text/html": [
       "<div>\n",
       "<style scoped>\n",
       "    .dataframe tbody tr th:only-of-type {\n",
       "        vertical-align: middle;\n",
       "    }\n",
       "\n",
       "    .dataframe tbody tr th {\n",
       "        vertical-align: top;\n",
       "    }\n",
       "\n",
       "    .dataframe thead th {\n",
       "        text-align: right;\n",
       "    }\n",
       "</style>\n",
       "<table border=\"1\" class=\"dataframe\">\n",
       "  <thead>\n",
       "    <tr style=\"text-align: right;\">\n",
       "      <th></th>\n",
       "      <th>race_id</th>\n",
       "      <th>race_round</th>\n",
       "      <th>race_title</th>\n",
       "      <th>race_course</th>\n",
       "      <th>weather</th>\n",
       "      <th>ground_status</th>\n",
       "      <th>time</th>\n",
       "      <th>date</th>\n",
       "      <th>where_racecourse</th>\n",
       "      <th>total_horse_number</th>\n",
       "      <th>frame_number_first</th>\n",
       "      <th>horse_number_first</th>\n",
       "      <th>frame_number_second</th>\n",
       "      <th>horse_number_second</th>\n",
       "      <th>frame_number_third</th>\n",
       "      <th>horse_number_third</th>\n",
       "      <th>tansyo</th>\n",
       "      <th>hukusyo_first</th>\n",
       "      <th>hukusyo_second</th>\n",
       "      <th>hukusyo_third</th>\n",
       "      <th>wakuren</th>\n",
       "      <th>umaren</th>\n",
       "      <th>wide_1_2</th>\n",
       "      <th>wide_1_3</th>\n",
       "      <th>wide_2_3</th>\n",
       "      <th>umatan</th>\n",
       "      <th>renhuku3</th>\n",
       "      <th>rentan3</th>\n",
       "    </tr>\n",
       "  </thead>\n",
       "  <tbody>\n",
       "    <tr>\n",
       "      <th>0</th>\n",
       "      <td>200810010312</td>\n",
       "      <td>12 R</td>\n",
       "      <td>鳥栖特別</td>\n",
       "      <td>芝右1200m</td>\n",
       "      <td>天候 : 晴</td>\n",
       "      <td>芝 : 良</td>\n",
       "      <td>発走 : 16:05\\n\\n過去の鳥栖特別</td>\n",
       "      <td>2008年1月26日</td>\n",
       "      <td>1回小倉3日目</td>\n",
       "      <td>18</td>\n",
       "      <td>4</td>\n",
       "      <td>7</td>\n",
       "      <td>3</td>\n",
       "      <td>6</td>\n",
       "      <td>1</td>\n",
       "      <td>2</td>\n",
       "      <td>970</td>\n",
       "      <td>280</td>\n",
       "      <td>820</td>\n",
       "      <td>1,250</td>\n",
       "      <td>2,790</td>\n",
       "      <td>13,670</td>\n",
       "      <td>4,400</td>\n",
       "      <td>8,080</td>\n",
       "      <td>10,850</td>\n",
       "      <td>29,590</td>\n",
       "      <td>152,100</td>\n",
       "      <td>836,940</td>\n",
       "    </tr>\n",
       "  </tbody>\n",
       "</table>\n",
       "</div>"
      ],
      "text/plain": [
       "        race_id race_round race_title race_course weather ground_status  \\\n",
       "0  200810010312       12 R      鳥栖特別      芝右1200m  天候 : 晴         芝 : 良   \n",
       "\n",
       "                    time        date where_racecourse  total_horse_number  \\\n",
       "0  発走 : 16:05\\n\\n過去の鳥栖特別  2008年1月26日          1回小倉3日目                  18   \n",
       "\n",
       "   frame_number_first  horse_number_first  frame_number_second  \\\n",
       "0                   4                   7                    3   \n",
       "\n",
       "   horse_number_second  frame_number_third  horse_number_third tansyo  \\\n",
       "0                    6                   1                   2    970   \n",
       "\n",
       "  hukusyo_first hukusyo_second hukusyo_third wakuren  umaren wide_1_2  \\\n",
       "0           280            820         1,250   2,790  13,670    4,400   \n",
       "\n",
       "  wide_1_3 wide_2_3  umatan renhuku3  rentan3  \n",
       "0    8,080   10,850  29,590  152,100  836,940  "
      ]
     },
     "execution_count": 6,
     "metadata": {},
     "output_type": "execute_result"
    }
   ],
   "source": [
    "race_df.head(1)"
   ]
  },
  {
   "cell_type": "markdown",
   "metadata": {},
   "source": [
    "### race_id\n",
    "そのままでOK"
   ]
  },
  {
   "cell_type": "code",
   "execution_count": 7,
   "metadata": {},
   "outputs": [
    {
     "data": {
      "text/plain": [
       "dtype('int64')"
      ]
     },
     "execution_count": 7,
     "metadata": {},
     "output_type": "execute_result"
    }
   ],
   "source": [
    "# 一応確認\n",
    "race_df[\"race_id\"].dtypes"
   ]
  },
  {
   "cell_type": "markdown",
   "metadata": {},
   "source": [
    "### race_round\n",
    "余分な空白とRを取り除く"
   ]
  },
  {
   "cell_type": "code",
   "execution_count": 8,
   "metadata": {},
   "outputs": [
    {
     "data": {
      "text/plain": [
       "dtype('O')"
      ]
     },
     "execution_count": 8,
     "metadata": {},
     "output_type": "execute_result"
    }
   ],
   "source": [
    "race_df[\"race_round\"].dtypes"
   ]
  },
  {
   "cell_type": "code",
   "execution_count": 9,
   "metadata": {},
   "outputs": [
    {
     "data": {
      "text/plain": [
       "array(['12 R', '9 R', '7 R', '3 R', '5 R', '6 R', '11 R', '4 R', '10 R',\n",
       "       '8 R', '1 R', '2 R', '      1 R\\n      '], dtype=object)"
      ]
     },
     "execution_count": 9,
     "metadata": {},
     "output_type": "execute_result"
    }
   ],
   "source": [
    "race_df['race_round'].unique()"
   ]
  },
  {
   "cell_type": "code",
   "execution_count": 10,
   "metadata": {},
   "outputs": [],
   "source": [
    "race_df['race_round'] = race_df['race_round'].str.strip('R \\n')"
   ]
  },
  {
   "cell_type": "code",
   "execution_count": 11,
   "metadata": {},
   "outputs": [
    {
     "data": {
      "text/plain": [
       "array(['12', '9', '7', '3', '5', '6', '11', '4', '10', '8', '1', '2'],\n",
       "      dtype=object)"
      ]
     },
     "execution_count": 11,
     "metadata": {},
     "output_type": "execute_result"
    }
   ],
   "source": [
    "race_df['race_round'].unique()"
   ]
  },
  {
   "cell_type": "code",
   "execution_count": 12,
   "metadata": {},
   "outputs": [
    {
     "data": {
      "text/plain": [
       "dtype('int64')"
      ]
     },
     "execution_count": 12,
     "metadata": {},
     "output_type": "execute_result"
    }
   ],
   "source": [
    "race_df['race_round'] = race_df['race_round'].astype(int)\n",
    "race_df[\"race_round\"].dtypes"
   ]
  },
  {
   "cell_type": "markdown",
   "metadata": {},
   "source": [
    "### race_title\n",
    "いらないので削除"
   ]
  },
  {
   "cell_type": "code",
   "execution_count": 13,
   "metadata": {},
   "outputs": [],
   "source": [
    "# もともとのカラムは不要なので削除\n",
    "race_df.drop(['race_title'], axis=1, inplace=True)"
   ]
  },
  {
   "cell_type": "markdown",
   "metadata": {},
   "source": [
    "### race_course\n",
    "「ダ右1200m」などであれば、ダート・右回り・1200に分割して、それぞれ別のカラムにする。\n",
    "\n",
    "新たに4つのカラムを追加\n",
    "- 障害コースか？\n",
    "- 地面のタイプは何か？\n",
    "- 右回り・左回り・直線か？\n",
    "- 距離は？"
   ]
  },
  {
   "cell_type": "code",
   "execution_count": 14,
   "metadata": {},
   "outputs": [
    {
     "data": {
      "text/plain": [
       "array(['芝右1200m', '芝右1800m', 'ダ右1200m', 'ダ右1400m', '芝右 外2200m', 'ダ右1000m',\n",
       "       '芝右 外1600m', 'ダ右1800m', 'ダ右1700m', '芝右2000m', '芝右 外1800m',\n",
       "       '芝右1600m', '障芝 ダート2930m', '芝右 外1400m', '障芝 ダート3200m',\n",
       "       '障芝 ダート2880m', '芝右 外1200m', '芝右2600m', '障芝 ダート3190m', '芝右 外2400m',\n",
       "       '芝右2500m', 'ダ右2400m', '芝右 外3000m', 'ダ右2500m', '芝右1400m', 'ダ左1600m',\n",
       "       'ダ左1400m', '芝左1400m', '芝左1600m', '芝左3400m', '芝左2000m', 'ダ左2100m',\n",
       "       'ダ左1300m', '障芝 ダート3790m', '障芝 ダート3000m', 'ダ左2400m', '芝左1800m',\n",
       "       '芝左2400m', 'ダ右1900m', '障芝 ダート3300m', 'ダ左1700m', '芝左1200m',\n",
       "       '障芝 ダート2970m', '芝右3000m', 'ダ左1000m', '障芝 外3350m', '芝右2200m',\n",
       "       'ダ右2000m', 'ダ左2300m', '障芝 ダート3110m', '芝左2500m', '障芝3900m',\n",
       "       '障芝 ダート3170m', 'ダ右1150m', '芝左2300m', '障芝 ダート2910m', '障芝 外4250m',\n",
       "       '障芝3140m', 'ダ左1200m', '芝直線1000m', '芝左 外1600m', '芝左 外1800m',\n",
       "       'ダ左1800m', '芝左2200m', '芝左 外2000m', '障芝 ダート3100m', '芝右 外3200m',\n",
       "       '障芝 左2800m', '障芝 内-外3170m', '障芝2750m', '芝右1700m', '障芝 左3370m',\n",
       "       '芝右1000m', '障芝3300m', '障芝3390m', '障芝2770m', '障芝 外-内2850m',\n",
       "       '障芝3380m', '障芝2900m', '芝右1500m', '障芝 外-内3250m', '障芝3210m',\n",
       "       '障芝3930m', '芝右 内2周3600m', '障芝4100m', '障芝3570m', '障芝 ダート3285m',\n",
       "       '障芝 ダート3760m', '障芝 外4260m', 'ダ左2500m', '障芝3110m', 'ダ左1900m',\n",
       "       '障芝3000m', '障芝3330m', '障芝 外-内2890m', '障芝 外-内3290m', '障芝3350m',\n",
       "       '障芝2800m', '障芝2860m', '芝右 外2600m'], dtype=object)"
      ]
     },
     "execution_count": 14,
     "metadata": {},
     "output_type": "execute_result"
    }
   ],
   "source": [
    "race_df[\"race_course\"].unique()"
   ]
  },
  {
   "cell_type": "code",
   "execution_count": 15,
   "metadata": {},
   "outputs": [],
   "source": [
    "# 正規表現で取得\n",
    "\n",
    "# 障害か、地面のタイプは何か、左か、右か、直線か、\n",
    "obstacle = race_df[\"race_course\"].str.extract('(障)', expand=True)\n",
    "ground_type = race_df[\"race_course\"].str.extract('(ダ|芝)', expand=True)\n",
    "is_left_right_straight = race_df[\"race_course\"].str.extract('(左|右|直線)', expand=True)\n",
    "distance = race_df[\"race_course\"].str.extract('(\\d+)m', expand=True)\n",
    "\n",
    "obstacle.columns ={\"is_obstacle\"}\n",
    "ground_type.columns ={\"ground_type\"}\n",
    "is_left_right_straight.columns = {\"is_left_right_straight\"}\n",
    "distance.columns = {\"distance\"}\n",
    "\n",
    "race_df = pd.concat([race_df, obstacle], axis=1)\n",
    "race_df = pd.concat([race_df, ground_type], axis=1)\n",
    "race_df = pd.concat([race_df, is_left_right_straight], axis=1)\n",
    "race_df = pd.concat([race_df, distance], axis=1)"
   ]
  },
  {
   "cell_type": "code",
   "execution_count": 16,
   "metadata": {},
   "outputs": [],
   "source": [
    "# 'is_obstacle' 列の '障芝' を1に置き換え、Nanに0埋め\n",
    "race_df['is_obstacle'] = race_df['is_obstacle'].replace('障', 1)\n",
    "race_df.fillna(value={'is_obstacle': 0}, inplace=True)"
   ]
  },
  {
   "cell_type": "code",
   "execution_count": 17,
   "metadata": {},
   "outputs": [
    {
     "name": "stdout",
     "output_type": "stream",
     "text": [
      "is_obstacle: [0. 1.]\n",
      "ground_type: ['芝' 'ダ']\n",
      "is_left_right_straight: ['右' nan '左' '直線']\n",
      "distance isnull sum: 0\n"
     ]
    }
   ],
   "source": [
    "print(\"is_obstacle:\", race_df[\"is_obstacle\"].unique())\n",
    "print(\"ground_type:\", race_df[\"ground_type\"].unique())\n",
    "print(\"is_left_right_straight:\", race_df[\"is_left_right_straight\"].unique())\n",
    "print(\"distance isnull sum:\", race_df[\"distance\"].isnull().sum())"
   ]
  },
  {
   "cell_type": "code",
   "execution_count": 18,
   "metadata": {},
   "outputs": [],
   "source": [
    "# もともとのカラムは不要なので削除\n",
    "race_df.drop(['race_course'], axis=1, inplace=True)"
   ]
  },
  {
   "cell_type": "code",
   "execution_count": 19,
   "metadata": {},
   "outputs": [],
   "source": [
    "race_df[\"distance\"] = race_df[\"distance\"].astype(int)"
   ]
  },
  {
   "cell_type": "markdown",
   "metadata": {},
   "source": [
    "### weather\n",
    "そのままone_hotエンコーディングしてデータを食わせても良さそうだが...\n",
    "\n",
    "余分な文字列を取り除く。\n",
    "\n",
    "また、少雨よりも雨が強いはず、小雪よりも雪が強いはず。これらの単純な雨量は別のデータを取ってこないと分からないが、大小関係は情報として入れられるはず。"
   ]
  },
  {
   "cell_type": "code",
   "execution_count": 20,
   "metadata": {},
   "outputs": [
    {
     "data": {
      "text/plain": [
       "array(['天候 : 晴', '天候 : 曇', '天候 : 小雨', '天候 : 雨', '天候 : 小雪', '天候 : 雪'],\n",
       "      dtype=object)"
      ]
     },
     "execution_count": 20,
     "metadata": {},
     "output_type": "execute_result"
    }
   ],
   "source": [
    "race_df[\"weather\"].unique()"
   ]
  },
  {
   "cell_type": "code",
   "execution_count": 21,
   "metadata": {},
   "outputs": [],
   "source": [
    "race_df['weather'] = race_df['weather'].str.strip('天候 :')"
   ]
  },
  {
   "cell_type": "code",
   "execution_count": 22,
   "metadata": {},
   "outputs": [
    {
     "data": {
      "text/plain": [
       "array(['晴', '曇', '小雨', '雨', '小雪', '雪'], dtype=object)"
      ]
     },
     "execution_count": 22,
     "metadata": {},
     "output_type": "execute_result"
    }
   ],
   "source": [
    "race_df[\"weather\"].unique()"
   ]
  },
  {
   "cell_type": "code",
   "execution_count": 23,
   "metadata": {},
   "outputs": [],
   "source": [
    "weather_rain = race_df[\"weather\"].str.extract('(小雨|雨)', expand=True)\n",
    "weather_snow = race_df[\"weather\"].str.extract('(小雪|雪)', expand=True)\n",
    "weather_rain.columns ={\"weather_rain\"}\n",
    "weather_snow.columns ={\"weather_snow\"}\n",
    "race_df = pd.concat([race_df, weather_rain], axis=1)\n",
    "race_df = pd.concat([race_df, weather_snow], axis=1)\n",
    "\n",
    "race_df.fillna(value={'weather_rain': 0}, inplace=True)\n",
    "race_df['weather_rain'] = race_df['weather_rain'].replace('小雨', 1)\n",
    "race_df['weather_rain'] = race_df['weather_rain'].replace('雨', 2)\n",
    "race_df.fillna(value={'weather_snow': 0}, inplace=True)\n",
    "race_df['weather_snow'] = race_df['weather_snow'].replace('小雪', 1)\n",
    "race_df['weather_snow'] = race_df['weather_snow'].replace('雪', 2)"
   ]
  },
  {
   "cell_type": "code",
   "execution_count": 24,
   "metadata": {},
   "outputs": [
    {
     "name": "stdout",
     "output_type": "stream",
     "text": [
      "weather_rain: 0    37498\n",
      "2     2083\n",
      "1     1452\n",
      "Name: weather_rain, dtype: int64\n",
      "weather_snow: 0    40965\n",
      "1       49\n",
      "2       19\n",
      "Name: weather_snow, dtype: int64\n"
     ]
    }
   ],
   "source": [
    "print(\"weather_rain:\", race_df[\"weather_rain\"].value_counts())\n",
    "print(\"weather_snow:\", race_df[\"weather_snow\"].value_counts())"
   ]
  },
  {
   "cell_type": "code",
   "execution_count": null,
   "metadata": {},
   "outputs": [],
   "source": []
  },
  {
   "cell_type": "markdown",
   "metadata": {},
   "source": [
    "### ground_status\n",
    "芝かダートかは既に別カラムにあるので、状態を見る。\n",
    "大小関係があるので数値として。"
   ]
  },
  {
   "cell_type": "code",
   "execution_count": 25,
   "metadata": {},
   "outputs": [
    {
     "data": {
      "text/plain": [
       "array(['芝 : 良', 'ダート : 稍重', 'ダート : 重', 'ダート : 良', '芝 : 稍重', '芝 : 重',\n",
       "       '芝 : 良\\xa0\\xa0ダート : 稍重', '芝 : 不良', '芝 : 良\\xa0\\xa0ダート : 良',\n",
       "       'ダート : 不良', '芝 : 稍重\\xa0\\xa0ダート : 重', '芝 : 良\\xa0\\xa0ダート : 不良',\n",
       "       '芝 : 重\\xa0\\xa0ダート : 不良', '芝 : 稍重\\xa0\\xa0ダート : 稍重',\n",
       "       '芝 : 稍重\\xa0\\xa0ダート : 不良', '芝 : 重\\xa0\\xa0ダート : 重',\n",
       "       '芝 : 良\\xa0\\xa0ダート : 重', '芝 : 不良\\xa0\\xa0ダート : 不良'], dtype=object)"
      ]
     },
     "execution_count": 25,
     "metadata": {},
     "output_type": "execute_result"
    }
   ],
   "source": [
    "race_df[\"ground_status\"].unique()"
   ]
  },
  {
   "cell_type": "code",
   "execution_count": 26,
   "metadata": {},
   "outputs": [],
   "source": [
    "race_df['ground_status'] = race_df['ground_status'].replace('.*(稍重).*', 4,regex=True)\n",
    "race_df['ground_status'] = race_df['ground_status'].replace('.*(重).*', 3,regex=True)\n",
    "race_df['ground_status'] = race_df['ground_status'].replace('.*(不良).*', 2,regex=True)\n",
    "race_df['ground_status'] = race_df['ground_status'].replace('.*(良).*', 1,regex=True)\n"
   ]
  },
  {
   "cell_type": "code",
   "execution_count": 27,
   "metadata": {},
   "outputs": [
    {
     "name": "stdout",
     "output_type": "stream",
     "text": [
      "ground_status: 1    29427\n",
      "4     6529\n",
      "3     3361\n",
      "2     1716\n",
      "Name: ground_status, dtype: int64\n"
     ]
    }
   ],
   "source": [
    "print(\"ground_status:\", race_df[\"ground_status\"].value_counts())"
   ]
  },
  {
   "cell_type": "markdown",
   "metadata": {},
   "source": [
    "### time と dateをあわせてdatetimeに"
   ]
  },
  {
   "cell_type": "code",
   "execution_count": 28,
   "metadata": {},
   "outputs": [],
   "source": [
    "race_df[\"time\"] = race_df[\"time\"].str.replace('発走 : (\\d\\d):(\\d\\d)(.|\\n)*', r'\\1時\\2分')"
   ]
  },
  {
   "cell_type": "code",
   "execution_count": 29,
   "metadata": {},
   "outputs": [],
   "source": [
    "race_df[\"date\"] = race_df[\"date\"] + race_df[\"time\"]"
   ]
  },
  {
   "cell_type": "code",
   "execution_count": 30,
   "metadata": {},
   "outputs": [],
   "source": [
    "race_df[\"date\"] = pd.to_datetime(race_df['date'], format='%Y年%m月%d日%H時%M分')"
   ]
  },
  {
   "cell_type": "code",
   "execution_count": 31,
   "metadata": {},
   "outputs": [],
   "source": [
    "# もともとのtimeは不要なので削除\n",
    "race_df.drop(['time'], axis=1, inplace=True)"
   ]
  },
  {
   "cell_type": "code",
   "execution_count": 32,
   "metadata": {},
   "outputs": [
    {
     "name": "stdout",
     "output_type": "stream",
     "text": [
      "datetime64[ns]\n",
      "date isnull sum: 0\n"
     ]
    }
   ],
   "source": [
    "print(race_df[\"date\"].dtype)\n",
    "print(\"date isnull sum:\", race_df[\"date\"].isnull().sum())"
   ]
  },
  {
   "cell_type": "markdown",
   "metadata": {},
   "source": [
    "### where_racecourse\n",
    "例:1回小倉3日目 の中から小倉を取り出す"
   ]
  },
  {
   "cell_type": "code",
   "execution_count": 33,
   "metadata": {},
   "outputs": [],
   "source": [
    "race_df[\"where_racecourse\"] = race_df[\"where_racecourse\"].str.replace('\\d*回(..)\\d*日目', r'\\1')\n"
   ]
  },
  {
   "cell_type": "code",
   "execution_count": 34,
   "metadata": {},
   "outputs": [
    {
     "data": {
      "text/plain": [
       "array(['小倉', '中山', '京都', '東京', '阪神', '中京', '福島', '新潟', '函館', '札幌'],\n",
       "      dtype=object)"
      ]
     },
     "execution_count": 34,
     "metadata": {},
     "output_type": "execute_result"
    }
   ],
   "source": [
    "# 確認\n",
    "race_df[\"where_racecourse\"].unique()"
   ]
  },
  {
   "cell_type": "markdown",
   "metadata": {},
   "source": [
    "###  馬の数や順位\n",
    "- total_horse_number                 int64\n",
    "- frame_number_first                 int64\n",
    "- horse_number_first                 int64\n",
    "- frame_number_second                int64\n",
    "- horse_number_second                int64\n",
    "- frame_number_third                 int64\n",
    "- horse_number_third                 int64\n",
    "\n",
    "これらはそのままでOK"
   ]
  },
  {
   "cell_type": "markdown",
   "metadata": {},
   "source": [
    "### オッズから余分な「,」を除く\n",
    "- tansyo                            object\n",
    "- hukuren_first                     object\n",
    "- hukuren_second                    object\n",
    "- hukuren_third                     object\n",
    "- renhuku3                          object\n",
    "- rentan3                           object\n",
    "\n",
    "数値と文字列が混在しているので面倒\n",
    "```\n",
    "race_df['tansyo'] = race_df['tansyo'].str.strip(',')\n",
    "```\n",
    "などとしてもだめ"
   ]
  },
  {
   "cell_type": "code",
   "execution_count": 35,
   "metadata": {},
   "outputs": [
    {
     "data": {
      "text/plain": [
       "Index(['race_id', 'race_round', 'weather', 'ground_status', 'date',\n",
       "       'where_racecourse', 'total_horse_number', 'frame_number_first',\n",
       "       'horse_number_first', 'frame_number_second', 'horse_number_second',\n",
       "       'frame_number_third', 'horse_number_third', 'tansyo', 'hukusyo_first',\n",
       "       'hukusyo_second', 'hukusyo_third', 'wakuren', 'umaren', 'wide_1_2',\n",
       "       'wide_1_3', 'wide_2_3', 'umatan', 'renhuku3', 'rentan3', 'is_obstacle',\n",
       "       'ground_type', 'is_left_right_straight', 'distance', 'weather_rain',\n",
       "       'weather_snow'],\n",
       "      dtype='object')"
      ]
     },
     "execution_count": 35,
     "metadata": {},
     "output_type": "execute_result"
    }
   ],
   "source": [
    "race_df.columns"
   ]
  },
  {
   "cell_type": "code",
   "execution_count": 36,
   "metadata": {},
   "outputs": [],
   "source": [
    "race_df['tansyo'] = race_df['tansyo'].apply(lambda x: int(x.replace(\",\", \"\")) if type(x) is str else int(x))\n",
    "race_df['hukusyo_first'] = race_df['hukusyo_first'].apply(lambda x: int(x.replace(\",\", \"\")) if type(x) is str else int(x))\n",
    "race_df['hukusyo_second'] = race_df['hukusyo_second'].apply(lambda x: int(x.replace(\",\", \"\")) if type(x) is str else int(x))\n",
    "race_df['hukusyo_third'] = race_df['hukusyo_third'].apply(lambda x: int(x.replace(\",\", \"\")) if type(x) is str else int(x))\n",
    "race_df['wakuren'] = race_df['wakuren'].apply(lambda x: int(x.replace(\",\", \"\")) if type(x) is str else int(x))\n",
    "race_df['umaren'] = race_df['umaren'].apply(lambda x: int(x.replace(\",\", \"\")) if type(x) is str else int(x))\n",
    "race_df['wide_1_2'] = race_df['wide_1_2'].apply(lambda x: int(x.replace(\",\", \"\")) if type(x) is str else int(x))\n",
    "race_df['wide_1_3'] = race_df['wide_1_3'].apply(lambda x: int(x.replace(\",\", \"\")) if type(x) is str else int(x))\n",
    "race_df['wide_2_3'] = race_df['wide_2_3'].apply(lambda x: int(x.replace(\",\", \"\")) if type(x) is str else int(x))\n",
    "race_df['umatan'] = race_df['umatan'].apply(lambda x: int(x.replace(\",\", \"\")) if type(x) is str else int(x))\n",
    "race_df['renhuku3'] = race_df['renhuku3'].apply(lambda x: int(x.replace(\",\", \"\")) if type(x) is str else int(x))\n",
    "race_df['rentan3'] = race_df['rentan3'].apply(lambda x: int(x.replace(\",\", \"\")) if type(x) is str else int(x))\n"
   ]
  },
  {
   "cell_type": "code",
   "execution_count": 42,
   "metadata": {},
   "outputs": [
    {
     "data": {
      "text/html": [
       "<div>\n",
       "<style scoped>\n",
       "    .dataframe tbody tr th:only-of-type {\n",
       "        vertical-align: middle;\n",
       "    }\n",
       "\n",
       "    .dataframe tbody tr th {\n",
       "        vertical-align: top;\n",
       "    }\n",
       "\n",
       "    .dataframe thead th {\n",
       "        text-align: right;\n",
       "    }\n",
       "</style>\n",
       "<table border=\"1\" class=\"dataframe\">\n",
       "  <thead>\n",
       "    <tr style=\"text-align: right;\">\n",
       "      <th></th>\n",
       "      <th>race_id</th>\n",
       "      <th>race_round</th>\n",
       "      <th>weather</th>\n",
       "      <th>ground_status</th>\n",
       "      <th>date</th>\n",
       "      <th>where_racecourse</th>\n",
       "      <th>total_horse_number</th>\n",
       "      <th>frame_number_first</th>\n",
       "      <th>horse_number_first</th>\n",
       "      <th>frame_number_second</th>\n",
       "      <th>horse_number_second</th>\n",
       "      <th>frame_number_third</th>\n",
       "      <th>horse_number_third</th>\n",
       "      <th>tansyo</th>\n",
       "      <th>hukusyo_first</th>\n",
       "      <th>hukusyo_second</th>\n",
       "      <th>hukusyo_third</th>\n",
       "      <th>wakuren</th>\n",
       "      <th>umaren</th>\n",
       "      <th>wide_1_2</th>\n",
       "      <th>wide_1_3</th>\n",
       "      <th>wide_2_3</th>\n",
       "      <th>umatan</th>\n",
       "      <th>renhuku3</th>\n",
       "      <th>rentan3</th>\n",
       "      <th>is_obstacle</th>\n",
       "      <th>ground_type</th>\n",
       "      <th>is_left_right_straight</th>\n",
       "      <th>distance</th>\n",
       "      <th>weather_rain</th>\n",
       "      <th>weather_snow</th>\n",
       "    </tr>\n",
       "  </thead>\n",
       "  <tbody>\n",
       "    <tr>\n",
       "      <th>183</th>\n",
       "      <td>200808010709</td>\n",
       "      <td>9</td>\n",
       "      <td>曇</td>\n",
       "      <td>1</td>\n",
       "      <td>2008-01-26 14:35:00</td>\n",
       "      <td>京都</td>\n",
       "      <td>9</td>\n",
       "      <td>3</td>\n",
       "      <td>3</td>\n",
       "      <td>8</td>\n",
       "      <td>8</td>\n",
       "      <td>2</td>\n",
       "      <td>2</td>\n",
       "      <td>360270</td>\n",
       "      <td>190</td>\n",
       "      <td>150</td>\n",
       "      <td>110</td>\n",
       "      <td>1760</td>\n",
       "      <td>1640</td>\n",
       "      <td>510</td>\n",
       "      <td>270</td>\n",
       "      <td>200</td>\n",
       "      <td>17101650</td>\n",
       "      <td>1040</td>\n",
       "      <td>41503910</td>\n",
       "      <td>0.0</td>\n",
       "      <td>芝</td>\n",
       "      <td>右</td>\n",
       "      <td>2000</td>\n",
       "      <td>0</td>\n",
       "      <td>0</td>\n",
       "    </tr>\n",
       "  </tbody>\n",
       "</table>\n",
       "</div>"
      ],
      "text/plain": [
       "          race_id  race_round weather  ground_status                date  \\\n",
       "183  200808010709           9       曇              1 2008-01-26 14:35:00   \n",
       "\n",
       "    where_racecourse  total_horse_number  frame_number_first  \\\n",
       "183               京都                   9                   3   \n",
       "\n",
       "     horse_number_first  frame_number_second  horse_number_second  \\\n",
       "183                   3                    8                    8   \n",
       "\n",
       "     frame_number_third  horse_number_third  tansyo  hukusyo_first  \\\n",
       "183                   2                   2  360270            190   \n",
       "\n",
       "     hukusyo_second  hukusyo_third  wakuren  umaren  wide_1_2  wide_1_3  \\\n",
       "183             150            110     1760    1640       510       270   \n",
       "\n",
       "     wide_2_3    umatan  renhuku3   rentan3  is_obstacle ground_type  \\\n",
       "183       200  17101650      1040  41503910          0.0           芝   \n",
       "\n",
       "    is_left_right_straight  distance  weather_rain  weather_snow  \n",
       "183                      右      2000             0             0  "
      ]
     },
     "execution_count": 42,
     "metadata": {},
     "output_type": "execute_result"
    }
   ],
   "source": [
    "race_df[race_df['race_id']==200808010709]"
   ]
  },
  {
   "cell_type": "code",
   "execution_count": 37,
   "metadata": {},
   "outputs": [
    {
     "name": "stdout",
     "output_type": "stream",
     "text": [
      "dataframeの各列のデータ型を確認==>\n",
      " race_id                           object\n",
      "race_round                         int64\n",
      "weather                           object\n",
      "ground_status                      int64\n",
      "date                      datetime64[ns]\n",
      "where_racecourse                  object\n",
      "total_horse_number                 int64\n",
      "frame_number_first                 int64\n",
      "horse_number_first                 int64\n",
      "frame_number_second                int64\n",
      "horse_number_second                int64\n",
      "frame_number_third                 int64\n",
      "horse_number_third                 int64\n",
      "tansyo                             int64\n",
      "hukusyo_first                      int64\n",
      "hukusyo_second                     int64\n",
      "hukusyo_third                      int64\n",
      "wakuren                            int64\n",
      "umaren                             int64\n",
      "wide_1_2                           int64\n",
      "wide_1_3                           int64\n",
      "wide_2_3                           int64\n",
      "umatan                             int64\n",
      "renhuku3                           int64\n",
      "rentan3                            int64\n",
      "is_obstacle                      float64\n",
      "ground_type                       object\n",
      "is_left_right_straight            object\n",
      "distance                           int64\n",
      "weather_rain                       int64\n",
      "weather_snow                       int64\n",
      "dtype: object\n"
     ]
    },
    {
     "data": {
      "text/html": [
       "<div>\n",
       "<style scoped>\n",
       "    .dataframe tbody tr th:only-of-type {\n",
       "        vertical-align: middle;\n",
       "    }\n",
       "\n",
       "    .dataframe tbody tr th {\n",
       "        vertical-align: top;\n",
       "    }\n",
       "\n",
       "    .dataframe thead th {\n",
       "        text-align: right;\n",
       "    }\n",
       "</style>\n",
       "<table border=\"1\" class=\"dataframe\">\n",
       "  <thead>\n",
       "    <tr style=\"text-align: right;\">\n",
       "      <th></th>\n",
       "      <th>race_id</th>\n",
       "      <th>race_round</th>\n",
       "      <th>weather</th>\n",
       "      <th>ground_status</th>\n",
       "      <th>date</th>\n",
       "      <th>where_racecourse</th>\n",
       "      <th>total_horse_number</th>\n",
       "      <th>frame_number_first</th>\n",
       "      <th>horse_number_first</th>\n",
       "      <th>frame_number_second</th>\n",
       "      <th>horse_number_second</th>\n",
       "      <th>frame_number_third</th>\n",
       "      <th>horse_number_third</th>\n",
       "      <th>tansyo</th>\n",
       "      <th>hukusyo_first</th>\n",
       "      <th>hukusyo_second</th>\n",
       "      <th>hukusyo_third</th>\n",
       "      <th>wakuren</th>\n",
       "      <th>umaren</th>\n",
       "      <th>wide_1_2</th>\n",
       "      <th>wide_1_3</th>\n",
       "      <th>wide_2_3</th>\n",
       "      <th>umatan</th>\n",
       "      <th>renhuku3</th>\n",
       "      <th>rentan3</th>\n",
       "      <th>is_obstacle</th>\n",
       "      <th>ground_type</th>\n",
       "      <th>is_left_right_straight</th>\n",
       "      <th>distance</th>\n",
       "      <th>weather_rain</th>\n",
       "      <th>weather_snow</th>\n",
       "    </tr>\n",
       "  </thead>\n",
       "  <tbody>\n",
       "    <tr>\n",
       "      <th>0</th>\n",
       "      <td>200810010312</td>\n",
       "      <td>12</td>\n",
       "      <td>晴</td>\n",
       "      <td>1</td>\n",
       "      <td>2008-01-26 16:05:00</td>\n",
       "      <td>小倉</td>\n",
       "      <td>18</td>\n",
       "      <td>4</td>\n",
       "      <td>7</td>\n",
       "      <td>3</td>\n",
       "      <td>6</td>\n",
       "      <td>1</td>\n",
       "      <td>2</td>\n",
       "      <td>970</td>\n",
       "      <td>280</td>\n",
       "      <td>820</td>\n",
       "      <td>1250</td>\n",
       "      <td>2790</td>\n",
       "      <td>13670</td>\n",
       "      <td>4400</td>\n",
       "      <td>8080</td>\n",
       "      <td>10850</td>\n",
       "      <td>29590</td>\n",
       "      <td>152100</td>\n",
       "      <td>836940</td>\n",
       "      <td>0.0</td>\n",
       "      <td>芝</td>\n",
       "      <td>右</td>\n",
       "      <td>1200</td>\n",
       "      <td>0</td>\n",
       "      <td>0</td>\n",
       "    </tr>\n",
       "  </tbody>\n",
       "</table>\n",
       "</div>"
      ],
      "text/plain": [
       "        race_id  race_round weather  ground_status                date  \\\n",
       "0  200810010312          12       晴              1 2008-01-26 16:05:00   \n",
       "\n",
       "  where_racecourse  total_horse_number  frame_number_first  \\\n",
       "0               小倉                  18                   4   \n",
       "\n",
       "   horse_number_first  frame_number_second  horse_number_second  \\\n",
       "0                   7                    3                    6   \n",
       "\n",
       "   frame_number_third  horse_number_third  tansyo  hukusyo_first  \\\n",
       "0                   1                   2     970            280   \n",
       "\n",
       "   hukusyo_second  hukusyo_third  wakuren  umaren  wide_1_2  wide_1_3  \\\n",
       "0             820           1250     2790   13670      4400      8080   \n",
       "\n",
       "   wide_2_3  umatan  renhuku3  rentan3  is_obstacle ground_type  \\\n",
       "0     10850   29590    152100   836940          0.0           芝   \n",
       "\n",
       "  is_left_right_straight  distance  weather_rain  weather_snow  \n",
       "0                      右      1200             0             0  "
      ]
     },
     "execution_count": 37,
     "metadata": {},
     "output_type": "execute_result"
    }
   ],
   "source": [
    "# 確認\n",
    "race_df['race_id'] = race_df['race_id'].astype(str)\n",
    "#race_df['race_title'] = race_df['race_title'].astype(str)\n",
    "print('dataframeの各列のデータ型を確認==>\\n', race_df.dtypes)\n",
    "\n",
    "\n",
    "race_df.head(1)"
   ]
  },
  {
   "cell_type": "markdown",
   "metadata": {},
   "source": [
    "### race dataの保存"
   ]
  },
  {
   "cell_type": "code",
   "execution_count": 40,
   "metadata": {},
   "outputs": [],
   "source": [
    "race_df.to_csv(\"csv/cleaned_race_data.csv\", index=False )"
   ]
  },
  {
   "cell_type": "markdown",
   "metadata": {},
   "source": [
    "## horse data の整形"
   ]
  },
  {
   "cell_type": "code",
   "execution_count": 41,
   "metadata": {},
   "outputs": [
    {
     "name": "stdout",
     "output_type": "stream",
     "text": [
      "(590175, 19)\n",
      "race_id            int64\n",
      "rank              object\n",
      "frame_number       int64\n",
      "horse_number       int64\n",
      "horse_id           int64\n",
      "sex_and_age       object\n",
      "burden_weight    float64\n",
      "rider_id           int64\n",
      "goal_time         object\n",
      "goal_time_dif     object\n",
      "time_value        object\n",
      "half_way_rank     object\n",
      "last_time        float64\n",
      "odds              object\n",
      "popular          float64\n",
      "horse_weight      object\n",
      "tame_time         object\n",
      "tamer_id           int64\n",
      "owner_id          object\n",
      "dtype: object\n"
     ]
    },
    {
     "data": {
      "text/html": [
       "<div>\n",
       "<style scoped>\n",
       "    .dataframe tbody tr th:only-of-type {\n",
       "        vertical-align: middle;\n",
       "    }\n",
       "\n",
       "    .dataframe tbody tr th {\n",
       "        vertical-align: top;\n",
       "    }\n",
       "\n",
       "    .dataframe thead th {\n",
       "        text-align: right;\n",
       "    }\n",
       "</style>\n",
       "<table border=\"1\" class=\"dataframe\">\n",
       "  <thead>\n",
       "    <tr style=\"text-align: right;\">\n",
       "      <th></th>\n",
       "      <th>race_id</th>\n",
       "      <th>rank</th>\n",
       "      <th>frame_number</th>\n",
       "      <th>horse_number</th>\n",
       "      <th>horse_id</th>\n",
       "      <th>sex_and_age</th>\n",
       "      <th>burden_weight</th>\n",
       "      <th>rider_id</th>\n",
       "      <th>goal_time</th>\n",
       "      <th>goal_time_dif</th>\n",
       "      <th>time_value</th>\n",
       "      <th>half_way_rank</th>\n",
       "      <th>last_time</th>\n",
       "      <th>odds</th>\n",
       "      <th>popular</th>\n",
       "      <th>horse_weight</th>\n",
       "      <th>tame_time</th>\n",
       "      <th>tamer_id</th>\n",
       "      <th>owner_id</th>\n",
       "    </tr>\n",
       "  </thead>\n",
       "  <tbody>\n",
       "    <tr>\n",
       "      <th>0</th>\n",
       "      <td>200810010312</td>\n",
       "      <td>1</td>\n",
       "      <td>4</td>\n",
       "      <td>7</td>\n",
       "      <td>2004110053</td>\n",
       "      <td>牡4</td>\n",
       "      <td>56.0</td>\n",
       "      <td>674</td>\n",
       "      <td>1:09.7</td>\n",
       "      <td>NaN</td>\n",
       "      <td>\\n\\n**\\n\\n</td>\n",
       "      <td>11-12</td>\n",
       "      <td>35.9</td>\n",
       "      <td>9.7</td>\n",
       "      <td>4.0</td>\n",
       "      <td>484(-10)</td>\n",
       "      <td>\\n\\n</td>\n",
       "      <td>1075</td>\n",
       "      <td>19004</td>\n",
       "    </tr>\n",
       "    <tr>\n",
       "      <th>1</th>\n",
       "      <td>200810010312</td>\n",
       "      <td>2</td>\n",
       "      <td>3</td>\n",
       "      <td>6</td>\n",
       "      <td>2003106038</td>\n",
       "      <td>牡5</td>\n",
       "      <td>57.0</td>\n",
       "      <td>1054</td>\n",
       "      <td>1:09.7</td>\n",
       "      <td>クビ</td>\n",
       "      <td>\\n\\n**\\n\\n</td>\n",
       "      <td>7-8</td>\n",
       "      <td>36.1</td>\n",
       "      <td>35.7</td>\n",
       "      <td>12.0</td>\n",
       "      <td>474(-8)</td>\n",
       "      <td>\\n\\n</td>\n",
       "      <td>1007</td>\n",
       "      <td>910006</td>\n",
       "    </tr>\n",
       "  </tbody>\n",
       "</table>\n",
       "</div>"
      ],
      "text/plain": [
       "        race_id rank  frame_number  horse_number    horse_id sex_and_age  \\\n",
       "0  200810010312    1             4             7  2004110053          牡4   \n",
       "1  200810010312    2             3             6  2003106038          牡5   \n",
       "\n",
       "   burden_weight rider_id goal_time goal_time_dif  time_value half_way_rank  \\\n",
       "0           56.0      674    1:09.7           NaN  \\n\\n**\\n\\n         11-12   \n",
       "1           57.0     1054    1:09.7            クビ  \\n\\n**\\n\\n           7-8   \n",
       "\n",
       "   last_time  odds  popular horse_weight tame_time tamer_id owner_id  \n",
       "0       35.9   9.7      4.0     484(-10)      \\n\\n     1075    19004  \n",
       "1       36.1  35.7     12.0      474(-8)      \\n\\n     1007   910006  "
      ]
     },
     "execution_count": 41,
     "metadata": {},
     "output_type": "execute_result"
    }
   ],
   "source": [
    "print(horse_df.shape)\n",
    "print(horse_df.dtypes)\n",
    "horse_df['race_id'] = horse_df['race_id'].astype(str)\n",
    "horse_df['horse_id'] = horse_df['horse_id'].astype(str)\n",
    "horse_df['tamer_id'] = horse_df['tamer_id'].astype(str)\n",
    "horse_df['owner_id'] = horse_df['owner_id'].astype(str)\n",
    "horse_df['rider_id'] = horse_df['rider_id'].astype(str)\n",
    "\n",
    "horse_df.head(2)"
   ]
  },
  {
   "cell_type": "code",
   "execution_count": null,
   "metadata": {},
   "outputs": [],
   "source": []
  },
  {
   "cell_type": "code",
   "execution_count": 42,
   "metadata": {},
   "outputs": [
    {
     "data": {
      "text/html": [
       "<div>\n",
       "<style scoped>\n",
       "    .dataframe tbody tr th:only-of-type {\n",
       "        vertical-align: middle;\n",
       "    }\n",
       "\n",
       "    .dataframe tbody tr th {\n",
       "        vertical-align: top;\n",
       "    }\n",
       "\n",
       "    .dataframe thead th {\n",
       "        text-align: right;\n",
       "    }\n",
       "</style>\n",
       "<table border=\"1\" class=\"dataframe\">\n",
       "  <thead>\n",
       "    <tr style=\"text-align: right;\">\n",
       "      <th></th>\n",
       "      <th>race_id</th>\n",
       "      <th>rank</th>\n",
       "      <th>frame_number</th>\n",
       "      <th>horse_number</th>\n",
       "      <th>horse_id</th>\n",
       "      <th>sex_and_age</th>\n",
       "      <th>burden_weight</th>\n",
       "      <th>rider_id</th>\n",
       "      <th>goal_time</th>\n",
       "      <th>goal_time_dif</th>\n",
       "      <th>time_value</th>\n",
       "      <th>half_way_rank</th>\n",
       "      <th>last_time</th>\n",
       "      <th>odds</th>\n",
       "      <th>popular</th>\n",
       "      <th>horse_weight</th>\n",
       "      <th>tame_time</th>\n",
       "      <th>tamer_id</th>\n",
       "      <th>owner_id</th>\n",
       "      <th>date</th>\n",
       "    </tr>\n",
       "  </thead>\n",
       "  <tbody>\n",
       "    <tr>\n",
       "      <th>0</th>\n",
       "      <td>200810010312</td>\n",
       "      <td>1</td>\n",
       "      <td>4</td>\n",
       "      <td>7</td>\n",
       "      <td>2004110053</td>\n",
       "      <td>牡4</td>\n",
       "      <td>56.0</td>\n",
       "      <td>674</td>\n",
       "      <td>1:09.7</td>\n",
       "      <td>NaN</td>\n",
       "      <td>\\n\\n**\\n\\n</td>\n",
       "      <td>11-12</td>\n",
       "      <td>35.9</td>\n",
       "      <td>9.7</td>\n",
       "      <td>4.0</td>\n",
       "      <td>484(-10)</td>\n",
       "      <td>\\n\\n</td>\n",
       "      <td>1075</td>\n",
       "      <td>19004</td>\n",
       "      <td>2008-01-26 16:05:00</td>\n",
       "    </tr>\n",
       "    <tr>\n",
       "      <th>1</th>\n",
       "      <td>200810010312</td>\n",
       "      <td>2</td>\n",
       "      <td>3</td>\n",
       "      <td>6</td>\n",
       "      <td>2003106038</td>\n",
       "      <td>牡5</td>\n",
       "      <td>57.0</td>\n",
       "      <td>1054</td>\n",
       "      <td>1:09.7</td>\n",
       "      <td>クビ</td>\n",
       "      <td>\\n\\n**\\n\\n</td>\n",
       "      <td>7-8</td>\n",
       "      <td>36.1</td>\n",
       "      <td>35.7</td>\n",
       "      <td>12.0</td>\n",
       "      <td>474(-8)</td>\n",
       "      <td>\\n\\n</td>\n",
       "      <td>1007</td>\n",
       "      <td>910006</td>\n",
       "      <td>2008-01-26 16:05:00</td>\n",
       "    </tr>\n",
       "    <tr>\n",
       "      <th>2</th>\n",
       "      <td>200810010312</td>\n",
       "      <td>3</td>\n",
       "      <td>1</td>\n",
       "      <td>2</td>\n",
       "      <td>2004110268</td>\n",
       "      <td>牝4</td>\n",
       "      <td>53.0</td>\n",
       "      <td>5223</td>\n",
       "      <td>1:09.9</td>\n",
       "      <td>1.1/4</td>\n",
       "      <td>\\n\\n**\\n\\n</td>\n",
       "      <td>7-8</td>\n",
       "      <td>36.3</td>\n",
       "      <td>54.5</td>\n",
       "      <td>14.0</td>\n",
       "      <td>442(-18)</td>\n",
       "      <td>\\n\\n</td>\n",
       "      <td>427</td>\n",
       "      <td>975009</td>\n",
       "      <td>2008-01-26 16:05:00</td>\n",
       "    </tr>\n",
       "    <tr>\n",
       "      <th>3</th>\n",
       "      <td>200810010312</td>\n",
       "      <td>4</td>\n",
       "      <td>7</td>\n",
       "      <td>15</td>\n",
       "      <td>2003103747</td>\n",
       "      <td>牝5</td>\n",
       "      <td>55.0</td>\n",
       "      <td>1099</td>\n",
       "      <td>1:09.9</td>\n",
       "      <td>ハナ</td>\n",
       "      <td>\\n\\n**\\n\\n</td>\n",
       "      <td>13-12</td>\n",
       "      <td>35.8</td>\n",
       "      <td>25.9</td>\n",
       "      <td>10.0</td>\n",
       "      <td>458(0)</td>\n",
       "      <td>\\n\\n</td>\n",
       "      <td>1041</td>\n",
       "      <td>102800</td>\n",
       "      <td>2008-01-26 16:05:00</td>\n",
       "    </tr>\n",
       "    <tr>\n",
       "      <th>4</th>\n",
       "      <td>200810010312</td>\n",
       "      <td>5</td>\n",
       "      <td>6</td>\n",
       "      <td>12</td>\n",
       "      <td>2004101251</td>\n",
       "      <td>牝4</td>\n",
       "      <td>54.0</td>\n",
       "      <td>1075</td>\n",
       "      <td>1:09.9</td>\n",
       "      <td>クビ</td>\n",
       "      <td>\\n\\n**\\n\\n</td>\n",
       "      <td>6-3</td>\n",
       "      <td>36.4</td>\n",
       "      <td>49.2</td>\n",
       "      <td>13.0</td>\n",
       "      <td>456(-4)</td>\n",
       "      <td>\\n\\n</td>\n",
       "      <td>437</td>\n",
       "      <td>851005</td>\n",
       "      <td>2008-01-26 16:05:00</td>\n",
       "    </tr>\n",
       "  </tbody>\n",
       "</table>\n",
       "</div>"
      ],
      "text/plain": [
       "        race_id rank  frame_number  horse_number    horse_id sex_and_age  \\\n",
       "0  200810010312    1             4             7  2004110053          牡4   \n",
       "1  200810010312    2             3             6  2003106038          牡5   \n",
       "2  200810010312    3             1             2  2004110268          牝4   \n",
       "3  200810010312    4             7            15  2003103747          牝5   \n",
       "4  200810010312    5             6            12  2004101251          牝4   \n",
       "\n",
       "   burden_weight rider_id goal_time goal_time_dif  time_value half_way_rank  \\\n",
       "0           56.0      674    1:09.7           NaN  \\n\\n**\\n\\n         11-12   \n",
       "1           57.0     1054    1:09.7            クビ  \\n\\n**\\n\\n           7-8   \n",
       "2           53.0     5223    1:09.9         1.1/4  \\n\\n**\\n\\n           7-8   \n",
       "3           55.0     1099    1:09.9            ハナ  \\n\\n**\\n\\n         13-12   \n",
       "4           54.0     1075    1:09.9            クビ  \\n\\n**\\n\\n           6-3   \n",
       "\n",
       "   last_time  odds  popular horse_weight tame_time tamer_id owner_id  \\\n",
       "0       35.9   9.7      4.0     484(-10)      \\n\\n     1075    19004   \n",
       "1       36.1  35.7     12.0      474(-8)      \\n\\n     1007   910006   \n",
       "2       36.3  54.5     14.0     442(-18)      \\n\\n      427   975009   \n",
       "3       35.8  25.9     10.0       458(0)      \\n\\n     1041   102800   \n",
       "4       36.4  49.2     13.0      456(-4)      \\n\\n      437   851005   \n",
       "\n",
       "                 date  \n",
       "0 2008-01-26 16:05:00  \n",
       "1 2008-01-26 16:05:00  \n",
       "2 2008-01-26 16:05:00  \n",
       "3 2008-01-26 16:05:00  \n",
       "4 2008-01-26 16:05:00  "
      ]
     },
     "execution_count": 42,
     "metadata": {},
     "output_type": "execute_result"
    }
   ],
   "source": [
    "# 何かとデータ分析で便利なので、レース日時情報をmerge\n",
    "race_tmp_df = race_df[[\"race_id\", \"date\"]]\n",
    "horse_df = pd.merge(horse_df, race_tmp_df, on='race_id')\n",
    "horse_df.head()"
   ]
  },
  {
   "cell_type": "markdown",
   "metadata": {},
   "source": [
    "### 使わなさそうな情報を削除\n",
    "- time_value, tame_time(プレミアム会員向けの情報)\n",
    "- goal_time_dif(自分で作成する)"
   ]
  },
  {
   "cell_type": "code",
   "execution_count": 43,
   "metadata": {},
   "outputs": [],
   "source": [
    "horse_df.drop(['time_value'], axis=1, inplace=True)\n",
    "horse_df.drop(['goal_time_dif'], axis=1, inplace=True)\n",
    "horse_df.drop(['tame_time'], axis=1, inplace=True)"
   ]
  },
  {
   "cell_type": "markdown",
   "metadata": {},
   "source": [
    "### race_id\n",
    "そのままでOK"
   ]
  },
  {
   "cell_type": "markdown",
   "metadata": {},
   "source": [
    "### rank\n",
    "> - 降着・・・\t「その走行妨害がなければ被害馬が加害馬に先着していた」と判断した場合、加害馬は被害馬の後ろに降着となります。\n",
    "> - 失格・・・\t「極めて悪質で他の騎手や馬に対する危険な行為によって、競走に重大な支障を生じさせた」と判断した場合、加害馬は失格となります。\n",
    "\n",
    "> 注記：被害馬が落馬や疾病発症等により競走を中止した場合には、上記の「失格」に該当しない限り着順は到達順位のとおり確定します。\n"
   ]
  },
  {
   "cell_type": "markdown",
   "metadata": {},
   "source": [
    "- 降格は降格フラグに分割、順位そのまま入れておく\n",
    "- 取・除はそもそも参加していないので削除\n",
    "- 失は順位が全く当てにならないので情報を削除\n",
    "- 中は最後まで到達していないが参加はしている。ひとまず20位にしておく。goal_timeが無いので、大きめに取る必要がある。\n",
    "- 12(再)は12で最後の模様。そのまま12にする"
   ]
  },
  {
   "cell_type": "code",
   "execution_count": 44,
   "metadata": {},
   "outputs": [
    {
     "data": {
      "text/html": [
       "<div>\n",
       "<style scoped>\n",
       "    .dataframe tbody tr th:only-of-type {\n",
       "        vertical-align: middle;\n",
       "    }\n",
       "\n",
       "    .dataframe tbody tr th {\n",
       "        vertical-align: top;\n",
       "    }\n",
       "\n",
       "    .dataframe thead th {\n",
       "        text-align: right;\n",
       "    }\n",
       "</style>\n",
       "<table border=\"1\" class=\"dataframe\">\n",
       "  <thead>\n",
       "    <tr style=\"text-align: right;\">\n",
       "      <th></th>\n",
       "      <th>race_id</th>\n",
       "      <th>rank</th>\n",
       "      <th>frame_number</th>\n",
       "      <th>horse_number</th>\n",
       "      <th>horse_id</th>\n",
       "      <th>sex_and_age</th>\n",
       "      <th>burden_weight</th>\n",
       "      <th>rider_id</th>\n",
       "      <th>goal_time</th>\n",
       "      <th>half_way_rank</th>\n",
       "      <th>last_time</th>\n",
       "      <th>odds</th>\n",
       "      <th>popular</th>\n",
       "      <th>horse_weight</th>\n",
       "      <th>tamer_id</th>\n",
       "      <th>owner_id</th>\n",
       "      <th>date</th>\n",
       "    </tr>\n",
       "  </thead>\n",
       "  <tbody>\n",
       "    <tr>\n",
       "      <th>204608</th>\n",
       "      <td>201209010104</td>\n",
       "      <td>12(再)</td>\n",
       "      <td>5</td>\n",
       "      <td>6</td>\n",
       "      <td>2006101490</td>\n",
       "      <td>牡6</td>\n",
       "      <td>60.0</td>\n",
       "      <td>1072</td>\n",
       "      <td>3:55.2</td>\n",
       "      <td>9-9-10-12</td>\n",
       "      <td>15.8</td>\n",
       "      <td>45.6</td>\n",
       "      <td>9.0</td>\n",
       "      <td>502(-2)</td>\n",
       "      <td>1110</td>\n",
       "      <td>090006</td>\n",
       "      <td>2012-02-25 11:30:00</td>\n",
       "    </tr>\n",
       "  </tbody>\n",
       "</table>\n",
       "</div>"
      ],
      "text/plain": [
       "             race_id   rank  frame_number  horse_number    horse_id  \\\n",
       "204608  201209010104  12(再)             5             6  2006101490   \n",
       "\n",
       "       sex_and_age  burden_weight rider_id goal_time half_way_rank  last_time  \\\n",
       "204608          牡6           60.0     1072    3:55.2     9-9-10-12       15.8   \n",
       "\n",
       "        odds  popular horse_weight tamer_id owner_id                date  \n",
       "204608  45.6      9.0      502(-2)     1110   090006 2012-02-25 11:30:00  "
      ]
     },
     "execution_count": 44,
     "metadata": {},
     "output_type": "execute_result"
    }
   ],
   "source": [
    "# 確認\n",
    "horse_df[horse_df['rank'] =='中'].sort_values('date').head(2)\n",
    "horse_df[horse_df['rank'] =='取'].sort_values('date').head(2)\n",
    "horse_df[horse_df['rank'] =='除'].sort_values('date').head(2)\n",
    "horse_df[horse_df['rank'] =='16(降)'].sort_values('date').head(2)\n",
    "horse_df[horse_df['rank'] =='12(再)'].sort_values('date').head(2)"
   ]
  },
  {
   "cell_type": "code",
   "execution_count": 45,
   "metadata": {},
   "outputs": [],
   "source": [
    "# 降格を別へ\n",
    "is_down = horse_df[\"rank\"].str.extract('(\\(降\\))', expand=True)\n",
    "is_down.columns ={\"is_down\"}\n",
    "horse_df = pd.concat([horse_df, is_down], axis=1)\n",
    "\n",
    "horse_df.fillna(value={'is_down': 0}, inplace=True)\n",
    "horse_df['is_down'] = horse_df['is_down'].replace('(降)', 1)\n",
    "\n",
    "## 余分な文字を削除\n",
    "horse_df['rank'] = horse_df['rank'].apply(lambda x: x.replace(\"(降)\", \"\"))\n",
    "horse_df['rank'] = horse_df['rank'].apply(lambda x: x.replace(\"(再)\", \"\"))"
   ]
  },
  {
   "cell_type": "code",
   "execution_count": 46,
   "metadata": {},
   "outputs": [],
   "source": [
    "\"\"\"- 取・除はそもそも参加していないので削除\n",
    "- 失は順位が全く当てにならないので情報を削除\n",
    "- 中は最後まで到達していないが参加はしている。ひとまず20位にしておく\"\"\"\n",
    "\n",
    "horse_df = horse_df[(horse_df['rank'] != \"取\") & (horse_df['rank'] != \"除\") & (horse_df['rank'] != \"失\")]\n",
    "horse_df['rank'] = pd.DataFrame(horse_df['rank'].mask(horse_df['rank'] == \"中\", 20))"
   ]
  },
  {
   "cell_type": "code",
   "execution_count": 47,
   "metadata": {},
   "outputs": [
    {
     "data": {
      "text/plain": [
       "1     41077\n",
       "2     41063\n",
       "3     41060\n",
       "5     41043\n",
       "4     41032\n",
       "6     41022\n",
       "7     40903\n",
       "8     40591\n",
       "9     39863\n",
       "10    38547\n",
       "11    36707\n",
       "12    34342\n",
       "13    31103\n",
       "14    27557\n",
       "15    23570\n",
       "16    17857\n",
       "17     4314\n",
       "18     3370\n",
       "20     2954\n",
       "Name: rank, dtype: int64"
      ]
     },
     "execution_count": 47,
     "metadata": {},
     "output_type": "execute_result"
    }
   ],
   "source": [
    "# 確認\n",
    "horse_df[\"rank\"].value_counts()"
   ]
  },
  {
   "cell_type": "markdown",
   "metadata": {},
   "source": [
    "### 姓と年齢をsplit"
   ]
  },
  {
   "cell_type": "code",
   "execution_count": 48,
   "metadata": {},
   "outputs": [
    {
     "data": {
      "text/plain": [
       "array(['牡4', '牡5', '牝4', '牝5', '牡6', '牡3', '牝3', '牡7', 'セ3', 'セ6', 'セ7',\n",
       "       'セ8', '牡8', '牝7', '牝6', 'セ5', 'セ4', '牡10', 'セ9', '牡9', '牝8', '牡12',\n",
       "       '牡11', 'セ10', '牝9', 'セ11', '牡2', '牝2', 'セ2', '牝10', '牡13', 'セ12'],\n",
       "      dtype=object)"
      ]
     },
     "execution_count": 48,
     "metadata": {},
     "output_type": "execute_result"
    }
   ],
   "source": [
    "horse_df['sex_and_age'].unique()"
   ]
  },
  {
   "cell_type": "code",
   "execution_count": 49,
   "metadata": {},
   "outputs": [],
   "source": [
    "# 性別を別へ\n",
    "\n",
    "is_senba = horse_df[\"sex_and_age\"].str.extract('(セ)', expand=True)\n",
    "is_senba.columns ={\"is_senba\"}\n",
    "horse_df = pd.concat([horse_df, is_senba], axis=1)\n",
    "\n",
    "is_mesu = horse_df[\"sex_and_age\"].str.extract('(牝)', expand=True)\n",
    "is_mesu.columns ={\"is_mesu\"}\n",
    "horse_df = pd.concat([horse_df, is_mesu], axis=1)\n",
    "\n",
    "is_osu = horse_df[\"sex_and_age\"].str.extract('(牡)', expand=True)\n",
    "is_osu.columns ={\"is_osu\"}\n",
    "horse_df = pd.concat([horse_df, is_osu], axis=1)\n"
   ]
  },
  {
   "cell_type": "code",
   "execution_count": 50,
   "metadata": {},
   "outputs": [],
   "source": [
    "horse_df.fillna(value={'is_osu': 0}, inplace=True)\n",
    "horse_df['is_osu'] = horse_df['is_osu'].replace('牡', 1)\n",
    "horse_df.fillna(value={'is_mesu': 0}, inplace=True)\n",
    "horse_df['is_mesu'] = horse_df['is_mesu'].replace('牝', 1)\n",
    "horse_df.fillna(value={'is_senba': 0}, inplace=True)\n",
    "horse_df['is_senba'] = horse_df['is_senba'].replace('セ', 1)\n",
    "## 余分な文字を削除\n",
    "horse_df['sex_and_age'] = horse_df['sex_and_age'].str.strip(\"牝牡セ\")\n",
    "horse_df['sex_and_age'] = horse_df['sex_and_age'].astype(int)"
   ]
  },
  {
   "cell_type": "code",
   "execution_count": 51,
   "metadata": {},
   "outputs": [],
   "source": [
    "horse_df = horse_df.rename(columns={'sex_and_age': 'age'})"
   ]
  },
  {
   "cell_type": "markdown",
   "metadata": {},
   "source": [
    "## goal_timeをtimedelta型にしてから秒に(last_timeも)"
   ]
  },
  {
   "cell_type": "code",
   "execution_count": 52,
   "metadata": {},
   "outputs": [
    {
     "name": "stdout",
     "output_type": "stream",
     "text": [
      "2954\n",
      "2959\n"
     ]
    }
   ],
   "source": [
    "# nullになるのは、レースで「中」になった馬\n",
    "print(horse_df['goal_time'].isnull().sum())\n",
    "print(horse_df['last_time'].isnull().sum())"
   ]
  },
  {
   "cell_type": "code",
   "execution_count": 53,
   "metadata": {},
   "outputs": [],
   "source": [
    "horse_df['goal_time'] = pd.to_datetime(horse_df['goal_time'], format='%M:%S.%f') - pd.to_datetime('00:00.0', format='%M:%S.%f')\n",
    "horse_df['goal_time'] = horse_df['goal_time'].dt.total_seconds()"
   ]
  },
  {
   "cell_type": "code",
   "execution_count": 54,
   "metadata": {},
   "outputs": [],
   "source": [
    "# 欠損値を最大値で埋める\n",
    "horse_df.fillna(value={'goal_time': horse_df['goal_time'].max()}, inplace=True)\n",
    "horse_df.fillna(value={'last_time': horse_df['last_time'].max()}, inplace=True)"
   ]
  },
  {
   "cell_type": "code",
   "execution_count": 55,
   "metadata": {},
   "outputs": [
    {
     "data": {
      "text/plain": [
       "race_id                  object\n",
       "rank                     object\n",
       "frame_number              int64\n",
       "horse_number              int64\n",
       "horse_id                 object\n",
       "age                       int64\n",
       "burden_weight           float64\n",
       "rider_id                 object\n",
       "goal_time               float64\n",
       "half_way_rank            object\n",
       "last_time               float64\n",
       "odds                     object\n",
       "popular                 float64\n",
       "horse_weight             object\n",
       "tamer_id                 object\n",
       "owner_id                 object\n",
       "date             datetime64[ns]\n",
       "is_down                   int64\n",
       "is_senba                  int64\n",
       "is_mesu                   int64\n",
       "is_osu                    int64\n",
       "dtype: object"
      ]
     },
     "execution_count": 55,
     "metadata": {},
     "output_type": "execute_result"
    }
   ],
   "source": [
    "horse_df.dtypes"
   ]
  },
  {
   "cell_type": "markdown",
   "metadata": {},
   "source": [
    "### goal_timeとレース距離から、平均速度を求める"
   ]
  },
  {
   "cell_type": "code",
   "execution_count": 56,
   "metadata": {},
   "outputs": [],
   "source": [
    "# レース距離情報をmerge\n",
    "race_tmp_df = race_df[[\"race_id\", \"distance\"]]\n",
    "horse_df = pd.merge(horse_df, race_tmp_df, on='race_id')"
   ]
  },
  {
   "cell_type": "code",
   "execution_count": 57,
   "metadata": {},
   "outputs": [],
   "source": [
    "horse_df[\"distance\"] = horse_df[\"distance\"].astype(int)\n",
    "horse_df[\"avg_velocity\"] = horse_df[\"distance\"]/horse_df[\"goal_time\"]\n"
   ]
  },
  {
   "cell_type": "code",
   "execution_count": null,
   "metadata": {},
   "outputs": [],
   "source": []
  },
  {
   "cell_type": "markdown",
   "metadata": {},
   "source": [
    "### half_way_rank\n",
    "splitして平均値を保持する（レースによってまちまちなので）"
   ]
  },
  {
   "cell_type": "code",
   "execution_count": 58,
   "metadata": {},
   "outputs": [],
   "source": [
    "from statistics import mean\n",
    "horse_df[\"half_way_rank\"] = horse_df[\"half_way_rank\"].apply(lambda x: mean([float(n) for n in (x.split(\"-\"))]) if type(x) is str else float(x) )"
   ]
  },
  {
   "cell_type": "code",
   "execution_count": 59,
   "metadata": {},
   "outputs": [
    {
     "data": {
      "text/plain": [
       "0"
      ]
     },
     "execution_count": 59,
     "metadata": {},
     "output_type": "execute_result"
    }
   ],
   "source": [
    "horse_df[horse_df[\"rank\"] == 20] = horse_df[horse_df[\"rank\"] == 20].fillna({'half_way_rank': 20})\n",
    "horse_df[\"half_way_rank\"] = horse_df[\"half_way_rank\"].fillna(horse_df['half_way_rank'].mean())\n",
    "horse_df[\"half_way_rank\"].isnull().sum()"
   ]
  },
  {
   "cell_type": "code",
   "execution_count": 60,
   "metadata": {},
   "outputs": [],
   "source": [
    "horse_df[\"half_way_rank\"] = horse_df[\"half_way_rank\"].astype(float)"
   ]
  },
  {
   "cell_type": "markdown",
   "metadata": {},
   "source": [
    "### horse_weight と diff の分離\n",
    "「計不」は平均で穴埋め"
   ]
  },
  {
   "cell_type": "code",
   "execution_count": 61,
   "metadata": {},
   "outputs": [],
   "source": [
    "horse_weight_dif = horse_df[\"horse_weight\"].str.extract('\\(([-|+]?\\d*)\\)', expand=True)\n",
    "horse_weight_dif.columns ={\"horse_weight_dif\"}\n",
    "\n",
    "horse_df = pd.concat([horse_df, horse_weight_dif], axis=1)\n",
    "\n",
    "horse_df['horse_weight'] = horse_df['horse_weight'].replace('\\(([-|+]?\\d*)\\)', '', regex=True)\n",
    "\n"
   ]
  },
  {
   "cell_type": "code",
   "execution_count": 62,
   "metadata": {},
   "outputs": [],
   "source": [
    "horse_df['horse_weight'] = horse_df['horse_weight'].replace('計不', np.nan)\n",
    "horse_df['horse_weight'] = horse_df['horse_weight'].astype(float)\n",
    "horse_df['horse_weight_dif'] = horse_df['horse_weight_dif'].astype(float)"
   ]
  },
  {
   "cell_type": "code",
   "execution_count": 63,
   "metadata": {},
   "outputs": [],
   "source": [
    "# 計不 の horse_idを探し、馬ごとの平均値で穴埋め\n",
    "no_records = horse_df[horse_df['horse_weight'].isnull()]['horse_id']\n",
    "for no_record_id in no_records:\n",
    "    horse_df.loc[(horse_df['horse_id'] == no_record_id)&(horse_df['horse_weight'].isnull()), 'horse_weight'] = horse_df[horse_df['horse_id'] == no_record_id]['horse_weight'].mean() \n",
    "    horse_df.loc[(horse_df['horse_id'] == no_record_id)&(horse_df['horse_weight_dif'].isnull()), 'horse_weight_dif'] = 0 \n",
    "    "
   ]
  },
  {
   "cell_type": "code",
   "execution_count": 64,
   "metadata": {},
   "outputs": [
    {
     "data": {
      "text/plain": [
       "race_id                     object\n",
       "rank                        object\n",
       "frame_number                 int64\n",
       "horse_number                 int64\n",
       "horse_id                    object\n",
       "age                          int64\n",
       "burden_weight              float64\n",
       "rider_id                    object\n",
       "goal_time                  float64\n",
       "half_way_rank              float64\n",
       "last_time                  float64\n",
       "odds                        object\n",
       "popular                    float64\n",
       "horse_weight               float64\n",
       "tamer_id                    object\n",
       "owner_id                    object\n",
       "date                datetime64[ns]\n",
       "is_down                      int64\n",
       "is_senba                     int64\n",
       "is_mesu                      int64\n",
       "is_osu                       int64\n",
       "distance                     int64\n",
       "avg_velocity               float64\n",
       "horse_weight_dif           float64\n",
       "dtype: object"
      ]
     },
     "execution_count": 64,
     "metadata": {},
     "output_type": "execute_result"
    }
   ],
   "source": [
    "horse_df.dtypes"
   ]
  },
  {
   "cell_type": "markdown",
   "metadata": {},
   "source": [
    "### burden_weight, horse_weight の比率を追加"
   ]
  },
  {
   "cell_type": "code",
   "execution_count": 65,
   "metadata": {},
   "outputs": [],
   "source": [
    "horse_df['burden_weight_rate'] = horse_df['burden_weight']/horse_df['horse_weight']"
   ]
  },
  {
   "cell_type": "markdown",
   "metadata": {},
   "source": [
    "### last_time\n",
    "とりあえず放置するが、外れ値の扱いを考えたほうが良さそう。"
   ]
  },
  {
   "cell_type": "code",
   "execution_count": 66,
   "metadata": {},
   "outputs": [
    {
     "data": {
      "text/plain": [
       "<matplotlib.axes._subplots.AxesSubplot at 0x1102fa8d0>"
      ]
     },
     "execution_count": 66,
     "metadata": {},
     "output_type": "execute_result"
    }
   ],
   "source": [
    "horse_df.plot(kind='hist', y='last_time' , bins=50, figsize=(16,4), alpha=0.5)"
   ]
  },
  {
   "cell_type": "code",
   "execution_count": 67,
   "metadata": {},
   "outputs": [
    {
     "data": {
      "text/plain": [
       "array(['200808010804', '200806010208', '200806010304', ...,\n",
       "       '201903030405', '201903030404', '201903030105'], dtype=object)"
      ]
     },
     "execution_count": 67,
     "metadata": {},
     "output_type": "execute_result"
    }
   ],
   "source": [
    "horse_df[horse_df['last_time']<20]['race_id'].unique()"
   ]
  },
  {
   "cell_type": "code",
   "execution_count": 68,
   "metadata": {},
   "outputs": [
    {
     "data": {
      "text/html": [
       "<div>\n",
       "<style scoped>\n",
       "    .dataframe tbody tr th:only-of-type {\n",
       "        vertical-align: middle;\n",
       "    }\n",
       "\n",
       "    .dataframe tbody tr th {\n",
       "        vertical-align: top;\n",
       "    }\n",
       "\n",
       "    .dataframe thead th {\n",
       "        text-align: right;\n",
       "    }\n",
       "</style>\n",
       "<table border=\"1\" class=\"dataframe\">\n",
       "  <thead>\n",
       "    <tr style=\"text-align: right;\">\n",
       "      <th></th>\n",
       "      <th>race_id</th>\n",
       "      <th>race_round</th>\n",
       "      <th>weather</th>\n",
       "      <th>ground_status</th>\n",
       "      <th>date</th>\n",
       "      <th>where_racecourse</th>\n",
       "      <th>total_horse_number</th>\n",
       "      <th>frame_number_first</th>\n",
       "      <th>horse_number_first</th>\n",
       "      <th>frame_number_second</th>\n",
       "      <th>horse_number_second</th>\n",
       "      <th>frame_number_third</th>\n",
       "      <th>horse_number_third</th>\n",
       "      <th>tansyo</th>\n",
       "      <th>hukusyo_first</th>\n",
       "      <th>hukusyo_second</th>\n",
       "      <th>hukusyo_third</th>\n",
       "      <th>wakuren</th>\n",
       "      <th>umaren</th>\n",
       "      <th>wide_1_2</th>\n",
       "      <th>wide_1_3</th>\n",
       "      <th>wide_2_3</th>\n",
       "      <th>umatan</th>\n",
       "      <th>renhuku3</th>\n",
       "      <th>rentan3</th>\n",
       "      <th>is_obstacle</th>\n",
       "      <th>ground_type</th>\n",
       "      <th>is_left_right_straight</th>\n",
       "      <th>distance</th>\n",
       "      <th>weather_rain</th>\n",
       "      <th>weather_snow</th>\n",
       "    </tr>\n",
       "  </thead>\n",
       "  <tbody>\n",
       "    <tr>\n",
       "      <th>49</th>\n",
       "      <td>200808010804</td>\n",
       "      <td>4</td>\n",
       "      <td>曇</td>\n",
       "      <td>4</td>\n",
       "      <td>2008-01-27 11:40:00</td>\n",
       "      <td>京都</td>\n",
       "      <td>14</td>\n",
       "      <td>7</td>\n",
       "      <td>12</td>\n",
       "      <td>1</td>\n",
       "      <td>1</td>\n",
       "      <td>8</td>\n",
       "      <td>13</td>\n",
       "      <td>380</td>\n",
       "      <td>130</td>\n",
       "      <td>110</td>\n",
       "      <td>430</td>\n",
       "      <td>350</td>\n",
       "      <td>340</td>\n",
       "      <td>180</td>\n",
       "      <td>1040</td>\n",
       "      <td>920</td>\n",
       "      <td>860</td>\n",
       "      <td>2020</td>\n",
       "      <td>0</td>\n",
       "      <td>1.0</td>\n",
       "      <td>芝</td>\n",
       "      <td>NaN</td>\n",
       "      <td>2930</td>\n",
       "      <td>0</td>\n",
       "      <td>0</td>\n",
       "    </tr>\n",
       "    <tr>\n",
       "      <th>64</th>\n",
       "      <td>200806010208</td>\n",
       "      <td>8</td>\n",
       "      <td>晴</td>\n",
       "      <td>1</td>\n",
       "      <td>2008-01-06 13:40:00</td>\n",
       "      <td>中山</td>\n",
       "      <td>14</td>\n",
       "      <td>6</td>\n",
       "      <td>9</td>\n",
       "      <td>5</td>\n",
       "      <td>7</td>\n",
       "      <td>2</td>\n",
       "      <td>2</td>\n",
       "      <td>2550</td>\n",
       "      <td>510</td>\n",
       "      <td>530</td>\n",
       "      <td>220</td>\n",
       "      <td>970</td>\n",
       "      <td>21030</td>\n",
       "      <td>4010</td>\n",
       "      <td>2050</td>\n",
       "      <td>1870</td>\n",
       "      <td>44390</td>\n",
       "      <td>33660</td>\n",
       "      <td>0</td>\n",
       "      <td>1.0</td>\n",
       "      <td>芝</td>\n",
       "      <td>NaN</td>\n",
       "      <td>3200</td>\n",
       "      <td>0</td>\n",
       "      <td>0</td>\n",
       "    </tr>\n",
       "    <tr>\n",
       "      <th>65</th>\n",
       "      <td>200806010304</td>\n",
       "      <td>4</td>\n",
       "      <td>雨</td>\n",
       "      <td>1</td>\n",
       "      <td>2008-01-12 11:20:00</td>\n",
       "      <td>中山</td>\n",
       "      <td>14</td>\n",
       "      <td>3</td>\n",
       "      <td>4</td>\n",
       "      <td>2</td>\n",
       "      <td>2</td>\n",
       "      <td>5</td>\n",
       "      <td>8</td>\n",
       "      <td>2340</td>\n",
       "      <td>330</td>\n",
       "      <td>150</td>\n",
       "      <td>150</td>\n",
       "      <td>2760</td>\n",
       "      <td>3300</td>\n",
       "      <td>880</td>\n",
       "      <td>850</td>\n",
       "      <td>290</td>\n",
       "      <td>8390</td>\n",
       "      <td>2610</td>\n",
       "      <td>0</td>\n",
       "      <td>1.0</td>\n",
       "      <td>芝</td>\n",
       "      <td>NaN</td>\n",
       "      <td>2880</td>\n",
       "      <td>2</td>\n",
       "      <td>0</td>\n",
       "    </tr>\n",
       "  </tbody>\n",
       "</table>\n",
       "</div>"
      ],
      "text/plain": [
       "         race_id  race_round weather  ground_status                date  \\\n",
       "49  200808010804           4       曇              4 2008-01-27 11:40:00   \n",
       "64  200806010208           8       晴              1 2008-01-06 13:40:00   \n",
       "65  200806010304           4       雨              1 2008-01-12 11:20:00   \n",
       "\n",
       "   where_racecourse  total_horse_number  frame_number_first  \\\n",
       "49               京都                  14                   7   \n",
       "64               中山                  14                   6   \n",
       "65               中山                  14                   3   \n",
       "\n",
       "    horse_number_first  frame_number_second  horse_number_second  \\\n",
       "49                  12                    1                    1   \n",
       "64                   9                    5                    7   \n",
       "65                   4                    2                    2   \n",
       "\n",
       "    frame_number_third  horse_number_third  tansyo  hukusyo_first  \\\n",
       "49                   8                  13     380            130   \n",
       "64                   2                   2    2550            510   \n",
       "65                   5                   8    2340            330   \n",
       "\n",
       "    hukusyo_second  hukusyo_third  wakuren  umaren  wide_1_2  wide_1_3  \\\n",
       "49             110            430      350     340       180      1040   \n",
       "64             530            220      970   21030      4010      2050   \n",
       "65             150            150     2760    3300       880       850   \n",
       "\n",
       "    wide_2_3  umatan  renhuku3  rentan3  is_obstacle ground_type  \\\n",
       "49       920     860      2020        0          1.0           芝   \n",
       "64      1870   44390     33660        0          1.0           芝   \n",
       "65       290    8390      2610        0          1.0           芝   \n",
       "\n",
       "   is_left_right_straight  distance  weather_rain  weather_snow  \n",
       "49                    NaN      2930             0             0  \n",
       "64                    NaN      3200             0             0  \n",
       "65                    NaN      2880             2             0  "
      ]
     },
     "execution_count": 68,
     "metadata": {},
     "output_type": "execute_result"
    }
   ],
   "source": [
    "race_df[(race_df['race_id']=='200808010804') | (race_df['race_id']=='200806010208') | (race_df['race_id']=='200806010304')]"
   ]
  },
  {
   "cell_type": "markdown",
   "metadata": {},
   "source": [
    "### odds"
   ]
  },
  {
   "cell_type": "code",
   "execution_count": 69,
   "metadata": {},
   "outputs": [],
   "source": [
    "horse_df['odds']= horse_df['odds'].astype(float)"
   ]
  },
  {
   "cell_type": "code",
   "execution_count": null,
   "metadata": {},
   "outputs": [],
   "source": []
  },
  {
   "cell_type": "markdown",
   "metadata": {},
   "source": [
    "### horse dataの保存"
   ]
  },
  {
   "cell_type": "code",
   "execution_count": 70,
   "metadata": {
    "scrolled": true
   },
   "outputs": [
    {
     "name": "stdout",
     "output_type": "stream",
     "text": [
      "race_id                       object\n",
      "rank                          object\n",
      "frame_number                   int64\n",
      "horse_number                   int64\n",
      "horse_id                      object\n",
      "age                            int64\n",
      "burden_weight                float64\n",
      "rider_id                      object\n",
      "goal_time                    float64\n",
      "half_way_rank                float64\n",
      "last_time                    float64\n",
      "odds                         float64\n",
      "popular                      float64\n",
      "horse_weight                 float64\n",
      "tamer_id                      object\n",
      "owner_id                      object\n",
      "date                  datetime64[ns]\n",
      "is_down                        int64\n",
      "is_senba                       int64\n",
      "is_mesu                        int64\n",
      "is_osu                         int64\n",
      "distance                       int64\n",
      "avg_velocity                 float64\n",
      "horse_weight_dif             float64\n",
      "burden_weight_rate           float64\n",
      "dtype: object\n"
     ]
    },
    {
     "data": {
      "text/html": [
       "<div>\n",
       "<style scoped>\n",
       "    .dataframe tbody tr th:only-of-type {\n",
       "        vertical-align: middle;\n",
       "    }\n",
       "\n",
       "    .dataframe tbody tr th {\n",
       "        vertical-align: top;\n",
       "    }\n",
       "\n",
       "    .dataframe thead th {\n",
       "        text-align: right;\n",
       "    }\n",
       "</style>\n",
       "<table border=\"1\" class=\"dataframe\">\n",
       "  <thead>\n",
       "    <tr style=\"text-align: right;\">\n",
       "      <th></th>\n",
       "      <th>race_id</th>\n",
       "      <th>rank</th>\n",
       "      <th>frame_number</th>\n",
       "      <th>horse_number</th>\n",
       "      <th>horse_id</th>\n",
       "      <th>age</th>\n",
       "      <th>burden_weight</th>\n",
       "      <th>rider_id</th>\n",
       "      <th>goal_time</th>\n",
       "      <th>half_way_rank</th>\n",
       "      <th>last_time</th>\n",
       "      <th>odds</th>\n",
       "      <th>popular</th>\n",
       "      <th>horse_weight</th>\n",
       "      <th>tamer_id</th>\n",
       "      <th>owner_id</th>\n",
       "      <th>date</th>\n",
       "      <th>is_down</th>\n",
       "      <th>is_senba</th>\n",
       "      <th>is_mesu</th>\n",
       "      <th>is_osu</th>\n",
       "      <th>distance</th>\n",
       "      <th>avg_velocity</th>\n",
       "      <th>horse_weight_dif</th>\n",
       "      <th>burden_weight_rate</th>\n",
       "    </tr>\n",
       "  </thead>\n",
       "  <tbody>\n",
       "    <tr>\n",
       "      <th>0</th>\n",
       "      <td>200810010312</td>\n",
       "      <td>1</td>\n",
       "      <td>4</td>\n",
       "      <td>7</td>\n",
       "      <td>2004110053</td>\n",
       "      <td>4</td>\n",
       "      <td>56.0</td>\n",
       "      <td>674</td>\n",
       "      <td>69.7</td>\n",
       "      <td>11.5</td>\n",
       "      <td>35.9</td>\n",
       "      <td>9.7</td>\n",
       "      <td>4.0</td>\n",
       "      <td>484.0</td>\n",
       "      <td>1075</td>\n",
       "      <td>19004</td>\n",
       "      <td>2008-01-26 16:05:00</td>\n",
       "      <td>0</td>\n",
       "      <td>0</td>\n",
       "      <td>0</td>\n",
       "      <td>1</td>\n",
       "      <td>1200</td>\n",
       "      <td>17.216643</td>\n",
       "      <td>-10.0</td>\n",
       "      <td>0.115702</td>\n",
       "    </tr>\n",
       "    <tr>\n",
       "      <th>1</th>\n",
       "      <td>200810010312</td>\n",
       "      <td>2</td>\n",
       "      <td>3</td>\n",
       "      <td>6</td>\n",
       "      <td>2003106038</td>\n",
       "      <td>5</td>\n",
       "      <td>57.0</td>\n",
       "      <td>1054</td>\n",
       "      <td>69.7</td>\n",
       "      <td>7.5</td>\n",
       "      <td>36.1</td>\n",
       "      <td>35.7</td>\n",
       "      <td>12.0</td>\n",
       "      <td>474.0</td>\n",
       "      <td>1007</td>\n",
       "      <td>910006</td>\n",
       "      <td>2008-01-26 16:05:00</td>\n",
       "      <td>0</td>\n",
       "      <td>0</td>\n",
       "      <td>0</td>\n",
       "      <td>1</td>\n",
       "      <td>1200</td>\n",
       "      <td>17.216643</td>\n",
       "      <td>-8.0</td>\n",
       "      <td>0.120253</td>\n",
       "    </tr>\n",
       "    <tr>\n",
       "      <th>2</th>\n",
       "      <td>200810010312</td>\n",
       "      <td>3</td>\n",
       "      <td>1</td>\n",
       "      <td>2</td>\n",
       "      <td>2004110268</td>\n",
       "      <td>4</td>\n",
       "      <td>53.0</td>\n",
       "      <td>5223</td>\n",
       "      <td>69.9</td>\n",
       "      <td>7.5</td>\n",
       "      <td>36.3</td>\n",
       "      <td>54.5</td>\n",
       "      <td>14.0</td>\n",
       "      <td>442.0</td>\n",
       "      <td>427</td>\n",
       "      <td>975009</td>\n",
       "      <td>2008-01-26 16:05:00</td>\n",
       "      <td>0</td>\n",
       "      <td>0</td>\n",
       "      <td>1</td>\n",
       "      <td>0</td>\n",
       "      <td>1200</td>\n",
       "      <td>17.167382</td>\n",
       "      <td>-18.0</td>\n",
       "      <td>0.119910</td>\n",
       "    </tr>\n",
       "  </tbody>\n",
       "</table>\n",
       "</div>"
      ],
      "text/plain": [
       "        race_id rank  frame_number  horse_number    horse_id  age  \\\n",
       "0  200810010312    1             4             7  2004110053    4   \n",
       "1  200810010312    2             3             6  2003106038    5   \n",
       "2  200810010312    3             1             2  2004110268    4   \n",
       "\n",
       "   burden_weight rider_id  goal_time  half_way_rank  last_time  odds  popular  \\\n",
       "0           56.0      674       69.7           11.5       35.9   9.7      4.0   \n",
       "1           57.0     1054       69.7            7.5       36.1  35.7     12.0   \n",
       "2           53.0     5223       69.9            7.5       36.3  54.5     14.0   \n",
       "\n",
       "   horse_weight tamer_id owner_id                date  is_down  is_senba  \\\n",
       "0         484.0     1075    19004 2008-01-26 16:05:00        0         0   \n",
       "1         474.0     1007   910006 2008-01-26 16:05:00        0         0   \n",
       "2         442.0      427   975009 2008-01-26 16:05:00        0         0   \n",
       "\n",
       "   is_mesu  is_osu  distance  avg_velocity  horse_weight_dif  \\\n",
       "0        0       1      1200     17.216643             -10.0   \n",
       "1        0       1      1200     17.216643              -8.0   \n",
       "2        1       0      1200     17.167382             -18.0   \n",
       "\n",
       "   burden_weight_rate  \n",
       "0            0.115702  \n",
       "1            0.120253  \n",
       "2            0.119910  "
      ]
     },
     "execution_count": 70,
     "metadata": {},
     "output_type": "execute_result"
    }
   ],
   "source": [
    "print(horse_df.dtypes)\n",
    "horse_df.head(3)"
   ]
  },
  {
   "cell_type": "code",
   "execution_count": 71,
   "metadata": {},
   "outputs": [],
   "source": [
    "horse_df.to_csv(\"csv/cleaned_horse_data.csv\", index=False )"
   ]
  },
  {
   "cell_type": "code",
   "execution_count": null,
   "metadata": {},
   "outputs": [],
   "source": []
  }
 ],
 "metadata": {
  "kernelspec": {
   "display_name": "Python 3",
   "language": "python",
   "name": "python3"
  },
  "language_info": {
   "codemirror_mode": {
    "name": "ipython",
    "version": 3
   },
   "file_extension": ".py",
   "mimetype": "text/x-python",
   "name": "python",
   "nbconvert_exporter": "python",
   "pygments_lexer": "ipython3",
   "version": "3.6.5"
  }
 },
 "nbformat": 4,
 "nbformat_minor": 2
}
